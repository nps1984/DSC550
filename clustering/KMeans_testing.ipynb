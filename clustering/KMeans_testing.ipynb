{
 "cells": [
  {
   "cell_type": "code",
   "execution_count": 1,
   "metadata": {},
   "outputs": [],
   "source": [
    "import numpy as np\n",
    "import pandas as pd\n",
    "from matplotlib import pyplot as plt\n",
    "from sklearn.cluster import KMeans"
   ]
  },
  {
   "cell_type": "code",
   "execution_count": 5,
   "metadata": {},
   "outputs": [],
   "source": [
    "iris = pd.read_csv('iris.txt', header=None)"
   ]
  },
  {
   "cell_type": "code",
   "execution_count": 6,
   "metadata": {},
   "outputs": [
    {
     "data": {
      "text/html": [
       "<div>\n",
       "<style scoped>\n",
       "    .dataframe tbody tr th:only-of-type {\n",
       "        vertical-align: middle;\n",
       "    }\n",
       "\n",
       "    .dataframe tbody tr th {\n",
       "        vertical-align: top;\n",
       "    }\n",
       "\n",
       "    .dataframe thead th {\n",
       "        text-align: right;\n",
       "    }\n",
       "</style>\n",
       "<table border=\"1\" class=\"dataframe\">\n",
       "  <thead>\n",
       "    <tr style=\"text-align: right;\">\n",
       "      <th></th>\n",
       "      <th>0</th>\n",
       "      <th>1</th>\n",
       "      <th>2</th>\n",
       "      <th>3</th>\n",
       "      <th>4</th>\n",
       "    </tr>\n",
       "  </thead>\n",
       "  <tbody>\n",
       "    <tr>\n",
       "      <th>0</th>\n",
       "      <td>5.9</td>\n",
       "      <td>3.0</td>\n",
       "      <td>4.2</td>\n",
       "      <td>1.5</td>\n",
       "      <td>Iris-versicolor</td>\n",
       "    </tr>\n",
       "    <tr>\n",
       "      <th>1</th>\n",
       "      <td>6.9</td>\n",
       "      <td>3.1</td>\n",
       "      <td>4.9</td>\n",
       "      <td>1.5</td>\n",
       "      <td>Iris-versicolor</td>\n",
       "    </tr>\n",
       "    <tr>\n",
       "      <th>2</th>\n",
       "      <td>6.6</td>\n",
       "      <td>2.9</td>\n",
       "      <td>4.6</td>\n",
       "      <td>1.3</td>\n",
       "      <td>Iris-versicolor</td>\n",
       "    </tr>\n",
       "    <tr>\n",
       "      <th>3</th>\n",
       "      <td>4.6</td>\n",
       "      <td>3.2</td>\n",
       "      <td>1.4</td>\n",
       "      <td>0.2</td>\n",
       "      <td>Iris-setosa</td>\n",
       "    </tr>\n",
       "    <tr>\n",
       "      <th>4</th>\n",
       "      <td>6.0</td>\n",
       "      <td>2.2</td>\n",
       "      <td>4.0</td>\n",
       "      <td>1.0</td>\n",
       "      <td>Iris-versicolor</td>\n",
       "    </tr>\n",
       "  </tbody>\n",
       "</table>\n",
       "</div>"
      ],
      "text/plain": [
       "     0    1    2    3                4\n",
       "0  5.9  3.0  4.2  1.5  Iris-versicolor\n",
       "1  6.9  3.1  4.9  1.5  Iris-versicolor\n",
       "2  6.6  2.9  4.6  1.3  Iris-versicolor\n",
       "3  4.6  3.2  1.4  0.2      Iris-setosa\n",
       "4  6.0  2.2  4.0  1.0  Iris-versicolor"
      ]
     },
     "execution_count": 6,
     "metadata": {},
     "output_type": "execute_result"
    }
   ],
   "source": [
    "iris.head()"
   ]
  },
  {
   "cell_type": "code",
   "execution_count": 28,
   "metadata": {},
   "outputs": [],
   "source": [
    "data = iris.iloc[:,[0,1,2,3]].values"
   ]
  },
  {
   "cell_type": "code",
   "execution_count": 53,
   "metadata": {},
   "outputs": [
    {
     "data": {
      "text/plain": [
       "array([[5.9, 3. , 4.2, 1.5],\n",
       "       [6.9, 3.1, 4.9, 1.5],\n",
       "       [6.6, 2.9, 4.6, 1.3],\n",
       "       [4.6, 3.2, 1.4, 0.2],\n",
       "       [6. , 2.2, 4. , 1. ],\n",
       "       [4.7, 3.2, 1.3, 0.2],\n",
       "       [6.5, 3. , 5.8, 2.2],\n",
       "       [5.8, 2.7, 5.1, 1.9],\n",
       "       [6.7, 3.1, 5.6, 2.4],\n",
       "       [6.7, 2.5, 5.8, 1.8],\n",
       "       [5.1, 3.7, 1.5, 0.4],\n",
       "       [5.1, 3.8, 1.5, 0.3],\n",
       "       [5.7, 3. , 4.2, 1.2],\n",
       "       [6.1, 3. , 4.9, 1.8],\n",
       "       [4.9, 3.1, 1.5, 0.1],\n",
       "       [5. , 3.4, 1.6, 0.4],\n",
       "       [5. , 3.4, 1.5, 0.2],\n",
       "       [5.7, 2.8, 4.1, 1.3],\n",
       "       [5. , 3.3, 1.4, 0.2],\n",
       "       [7.2, 3.2, 6. , 1.8],\n",
       "       [5.9, 3. , 5.1, 1.8],\n",
       "       [6.5, 3. , 5.2, 2. ],\n",
       "       [5.7, 4.4, 1.5, 0.4],\n",
       "       [5.5, 2.5, 4. , 1.3],\n",
       "       [4.9, 2.5, 4.5, 1.7],\n",
       "       [5. , 3.5, 1.6, 0.6],\n",
       "       [5.5, 2.3, 4. , 1.3],\n",
       "       [4.6, 3.1, 1.5, 0.2],\n",
       "       [7.2, 3. , 5.8, 1.6],\n",
       "       [6.8, 3.2, 5.9, 2.3],\n",
       "       [5.4, 3.9, 1.3, 0.4],\n",
       "       [5. , 3.2, 1.2, 0.2],\n",
       "       [5.7, 2.5, 5. , 2. ],\n",
       "       [5.8, 2.6, 4. , 1.2],\n",
       "       [5.1, 2.5, 3. , 1.1],\n",
       "       [5.6, 2.5, 3.9, 1.1],\n",
       "       [5.8, 2.7, 4.1, 1. ],\n",
       "       [5.1, 3.8, 1.9, 0.4],\n",
       "       [6.3, 2.3, 4.4, 1.3],\n",
       "       [6.3, 2.5, 5. , 1.9],\n",
       "       [5.6, 3. , 4.5, 1.5],\n",
       "       [6.1, 3. , 4.6, 1.4],\n",
       "       [6.8, 3. , 5.5, 2.1],\n",
       "       [7.3, 2.9, 6.3, 1.8],\n",
       "       [5.6, 2.7, 4.2, 1.3],\n",
       "       [4.8, 3. , 1.4, 0.1],\n",
       "       [7.1, 3. , 5.9, 2.1],\n",
       "       [5.7, 2.6, 3.5, 1. ],\n",
       "       [5.3, 3.7, 1.5, 0.2],\n",
       "       [5.7, 3.8, 1.7, 0.3],\n",
       "       [5.7, 2.9, 4.2, 1.3],\n",
       "       [5.6, 2.8, 4.9, 2. ],\n",
       "       [4.4, 3. , 1.3, 0.2],\n",
       "       [6.3, 3.3, 6. , 2.5],\n",
       "       [5.4, 3.4, 1.5, 0.4],\n",
       "       [6.3, 3.4, 5.6, 2.4],\n",
       "       [6.9, 3.1, 5.4, 2.1],\n",
       "       [7.7, 3. , 6.1, 2.3],\n",
       "       [6.1, 2.8, 4.7, 1.2],\n",
       "       [5.6, 2.9, 3.6, 1.3],\n",
       "       [6.1, 2.6, 5.6, 1.4],\n",
       "       [6.4, 2.7, 5.3, 1.9],\n",
       "       [5. , 3.5, 1.3, 0.3],\n",
       "       [5.1, 3.3, 1.7, 0.5],\n",
       "       [5.6, 3. , 4.1, 1.3],\n",
       "       [5.4, 3. , 4.5, 1.5],\n",
       "       [5.8, 2.8, 5.1, 2.4],\n",
       "       [4.9, 3.1, 1.5, 0.1],\n",
       "       [4.6, 3.6, 1. , 0.2],\n",
       "       [5.2, 3.4, 1.4, 0.2],\n",
       "       [7.9, 3.8, 6.4, 2. ],\n",
       "       [7.7, 2.6, 6.9, 2.3],\n",
       "       [6.1, 2.8, 4. , 1.3],\n",
       "       [5.5, 3.5, 1.3, 0.2],\n",
       "       [4.6, 3.4, 1.4, 0.3],\n",
       "       [4.7, 3.2, 1.6, 0.2],\n",
       "       [4.4, 2.9, 1.4, 0.2],\n",
       "       [6.2, 2.8, 4.8, 1.8],\n",
       "       [4.8, 3. , 1.4, 0.3],\n",
       "       [6. , 2.9, 4.5, 1.5],\n",
       "       [6.2, 3.4, 5.4, 2.3],\n",
       "       [5. , 2.3, 3.3, 1. ],\n",
       "       [6.4, 3.2, 4.5, 1.5],\n",
       "       [6.3, 2.9, 5.6, 1.8],\n",
       "       [6.7, 3. , 5. , 1.7],\n",
       "       [5. , 2. , 3.5, 1. ],\n",
       "       [5.9, 3.2, 4.8, 1.8],\n",
       "       [6.7, 3.3, 5.7, 2.5],\n",
       "       [5.4, 3.9, 1.7, 0.4],\n",
       "       [6.3, 2.7, 4.9, 1.8],\n",
       "       [4.8, 3.4, 1.6, 0.2],\n",
       "       [4.4, 3.2, 1.3, 0.2],\n",
       "       [6.4, 3.2, 5.3, 2.3],\n",
       "       [6.2, 2.2, 4.5, 1.5],\n",
       "       [6. , 2.2, 5. , 1.5],\n",
       "       [7.4, 2.8, 6.1, 1.9],\n",
       "       [4.9, 2.4, 3.3, 1. ],\n",
       "       [7. , 3.2, 4.7, 1.4],\n",
       "       [5.5, 2.4, 3.7, 1. ],\n",
       "       [6.3, 3.3, 4.7, 1.6],\n",
       "       [6.8, 2.8, 4.8, 1.4],\n",
       "       [6.1, 2.9, 4.7, 1.4],\n",
       "       [6.5, 3.2, 5.1, 2. ],\n",
       "       [6.7, 3.3, 5.7, 2.1],\n",
       "       [6.7, 3.1, 4.4, 1.4],\n",
       "       [4.8, 3.4, 1.9, 0.2],\n",
       "       [4.9, 3. , 1.4, 0.2],\n",
       "       [6.9, 3.2, 5.7, 2.3],\n",
       "       [4.5, 2.3, 1.3, 0.3],\n",
       "       [4.3, 3. , 1.1, 0.1],\n",
       "       [5.2, 2.7, 3.9, 1.4],\n",
       "       [5. , 3.6, 1.4, 0.2],\n",
       "       [6.4, 2.9, 4.3, 1.3],\n",
       "       [5.2, 3.5, 1.5, 0.2],\n",
       "       [5.8, 2.7, 3.9, 1.2],\n",
       "       [5.5, 4.2, 1.4, 0.2],\n",
       "       [7.6, 3. , 6.6, 2.1],\n",
       "       [6.3, 2.8, 5.1, 1.5],\n",
       "       [6.4, 3.1, 5.5, 1.8],\n",
       "       [6.3, 2.5, 4.9, 1.5],\n",
       "       [5.8, 2.7, 5.1, 1.9],\n",
       "       [5. , 3. , 1.6, 0.2],\n",
       "       [6.7, 3.1, 4.7, 1.5],\n",
       "       [6. , 2.7, 5.1, 1.6],\n",
       "       [5.1, 3.5, 1.4, 0.2],\n",
       "       [4.8, 3.1, 1.6, 0.2],\n",
       "       [5.7, 2.8, 4.5, 1.3],\n",
       "       [5.1, 3.8, 1.6, 0.2],\n",
       "       [6.6, 3. , 4.4, 1.4],\n",
       "       [6.4, 2.8, 5.6, 2.1],\n",
       "       [5.2, 4.1, 1.5, 0.1],\n",
       "       [6.4, 2.8, 5.6, 2.2],\n",
       "       [7.7, 2.8, 6.7, 2. ],\n",
       "       [5.8, 4. , 1.2, 0.2],\n",
       "       [4.9, 3.1, 1.5, 0.1],\n",
       "       [5.4, 3.7, 1.5, 0.2],\n",
       "       [5.1, 3.5, 1.4, 0.3],\n",
       "       [6. , 3.4, 4.5, 1.6],\n",
       "       [6.5, 3. , 5.5, 1.8],\n",
       "       [5.5, 2.4, 3.8, 1.1],\n",
       "       [7.2, 3.6, 6.1, 2.5],\n",
       "       [6.9, 3.1, 5.1, 2.3],\n",
       "       [6.2, 2.9, 4.3, 1.3],\n",
       "       [6.5, 2.8, 4.6, 1.5],\n",
       "       [6. , 3. , 4.8, 1.8],\n",
       "       [5.4, 3.4, 1.7, 0.2],\n",
       "       [5.5, 2.6, 4.4, 1.2],\n",
       "       [6.7, 3. , 5.2, 2.3],\n",
       "       [7.7, 3.8, 6.7, 2.2],\n",
       "       [5.1, 3.4, 1.5, 0.2]])"
      ]
     },
     "execution_count": 53,
     "metadata": {},
     "output_type": "execute_result"
    }
   ],
   "source": [
    "iris.iloc[:,[0,1,2,3]].values"
   ]
  },
  {
   "cell_type": "code",
   "execution_count": 56,
   "metadata": {},
   "outputs": [
    {
     "data": {
      "text/plain": [
       "array([[5.9, 3. , 4.2, 1.5],\n",
       "       [6.9, 3.1, 4.9, 1.5],\n",
       "       [6.6, 2.9, 4.6, 1.3],\n",
       "       [4.6, 3.2, 1.4, 0.2],\n",
       "       [6. , 2.2, 4. , 1. ],\n",
       "       [4.7, 3.2, 1.3, 0.2],\n",
       "       [6.5, 3. , 5.8, 2.2],\n",
       "       [5.8, 2.7, 5.1, 1.9],\n",
       "       [6.7, 3.1, 5.6, 2.4],\n",
       "       [6.7, 2.5, 5.8, 1.8],\n",
       "       [5.1, 3.7, 1.5, 0.4],\n",
       "       [5.1, 3.8, 1.5, 0.3],\n",
       "       [5.7, 3. , 4.2, 1.2],\n",
       "       [6.1, 3. , 4.9, 1.8],\n",
       "       [4.9, 3.1, 1.5, 0.1],\n",
       "       [5. , 3.4, 1.6, 0.4],\n",
       "       [5. , 3.4, 1.5, 0.2],\n",
       "       [5.7, 2.8, 4.1, 1.3],\n",
       "       [5. , 3.3, 1.4, 0.2],\n",
       "       [7.2, 3.2, 6. , 1.8],\n",
       "       [5.9, 3. , 5.1, 1.8],\n",
       "       [6.5, 3. , 5.2, 2. ],\n",
       "       [5.7, 4.4, 1.5, 0.4],\n",
       "       [5.5, 2.5, 4. , 1.3],\n",
       "       [4.9, 2.5, 4.5, 1.7],\n",
       "       [5. , 3.5, 1.6, 0.6],\n",
       "       [5.5, 2.3, 4. , 1.3],\n",
       "       [4.6, 3.1, 1.5, 0.2],\n",
       "       [7.2, 3. , 5.8, 1.6],\n",
       "       [6.8, 3.2, 5.9, 2.3],\n",
       "       [5.4, 3.9, 1.3, 0.4],\n",
       "       [5. , 3.2, 1.2, 0.2],\n",
       "       [5.7, 2.5, 5. , 2. ],\n",
       "       [5.8, 2.6, 4. , 1.2],\n",
       "       [5.1, 2.5, 3. , 1.1],\n",
       "       [5.6, 2.5, 3.9, 1.1],\n",
       "       [5.8, 2.7, 4.1, 1. ],\n",
       "       [5.1, 3.8, 1.9, 0.4],\n",
       "       [6.3, 2.3, 4.4, 1.3],\n",
       "       [6.3, 2.5, 5. , 1.9],\n",
       "       [5.6, 3. , 4.5, 1.5],\n",
       "       [6.1, 3. , 4.6, 1.4],\n",
       "       [6.8, 3. , 5.5, 2.1],\n",
       "       [7.3, 2.9, 6.3, 1.8],\n",
       "       [5.6, 2.7, 4.2, 1.3],\n",
       "       [4.8, 3. , 1.4, 0.1],\n",
       "       [7.1, 3. , 5.9, 2.1],\n",
       "       [5.7, 2.6, 3.5, 1. ],\n",
       "       [5.3, 3.7, 1.5, 0.2],\n",
       "       [5.7, 3.8, 1.7, 0.3],\n",
       "       [5.7, 2.9, 4.2, 1.3],\n",
       "       [5.6, 2.8, 4.9, 2. ],\n",
       "       [4.4, 3. , 1.3, 0.2],\n",
       "       [6.3, 3.3, 6. , 2.5],\n",
       "       [5.4, 3.4, 1.5, 0.4],\n",
       "       [6.3, 3.4, 5.6, 2.4],\n",
       "       [6.9, 3.1, 5.4, 2.1],\n",
       "       [7.7, 3. , 6.1, 2.3],\n",
       "       [6.1, 2.8, 4.7, 1.2],\n",
       "       [5.6, 2.9, 3.6, 1.3],\n",
       "       [6.1, 2.6, 5.6, 1.4],\n",
       "       [6.4, 2.7, 5.3, 1.9],\n",
       "       [5. , 3.5, 1.3, 0.3],\n",
       "       [5.1, 3.3, 1.7, 0.5],\n",
       "       [5.6, 3. , 4.1, 1.3],\n",
       "       [5.4, 3. , 4.5, 1.5],\n",
       "       [5.8, 2.8, 5.1, 2.4],\n",
       "       [4.9, 3.1, 1.5, 0.1],\n",
       "       [4.6, 3.6, 1. , 0.2],\n",
       "       [5.2, 3.4, 1.4, 0.2],\n",
       "       [7.9, 3.8, 6.4, 2. ],\n",
       "       [7.7, 2.6, 6.9, 2.3],\n",
       "       [6.1, 2.8, 4. , 1.3],\n",
       "       [5.5, 3.5, 1.3, 0.2],\n",
       "       [4.6, 3.4, 1.4, 0.3],\n",
       "       [4.7, 3.2, 1.6, 0.2],\n",
       "       [4.4, 2.9, 1.4, 0.2],\n",
       "       [6.2, 2.8, 4.8, 1.8],\n",
       "       [4.8, 3. , 1.4, 0.3],\n",
       "       [6. , 2.9, 4.5, 1.5],\n",
       "       [6.2, 3.4, 5.4, 2.3],\n",
       "       [5. , 2.3, 3.3, 1. ],\n",
       "       [6.4, 3.2, 4.5, 1.5],\n",
       "       [6.3, 2.9, 5.6, 1.8],\n",
       "       [6.7, 3. , 5. , 1.7],\n",
       "       [5. , 2. , 3.5, 1. ],\n",
       "       [5.9, 3.2, 4.8, 1.8],\n",
       "       [6.7, 3.3, 5.7, 2.5],\n",
       "       [5.4, 3.9, 1.7, 0.4],\n",
       "       [6.3, 2.7, 4.9, 1.8],\n",
       "       [4.8, 3.4, 1.6, 0.2],\n",
       "       [4.4, 3.2, 1.3, 0.2],\n",
       "       [6.4, 3.2, 5.3, 2.3],\n",
       "       [6.2, 2.2, 4.5, 1.5],\n",
       "       [6. , 2.2, 5. , 1.5],\n",
       "       [7.4, 2.8, 6.1, 1.9],\n",
       "       [4.9, 2.4, 3.3, 1. ],\n",
       "       [7. , 3.2, 4.7, 1.4],\n",
       "       [5.5, 2.4, 3.7, 1. ],\n",
       "       [6.3, 3.3, 4.7, 1.6],\n",
       "       [6.8, 2.8, 4.8, 1.4],\n",
       "       [6.1, 2.9, 4.7, 1.4],\n",
       "       [6.5, 3.2, 5.1, 2. ],\n",
       "       [6.7, 3.3, 5.7, 2.1],\n",
       "       [6.7, 3.1, 4.4, 1.4],\n",
       "       [4.8, 3.4, 1.9, 0.2],\n",
       "       [4.9, 3. , 1.4, 0.2],\n",
       "       [6.9, 3.2, 5.7, 2.3],\n",
       "       [4.5, 2.3, 1.3, 0.3],\n",
       "       [4.3, 3. , 1.1, 0.1],\n",
       "       [5.2, 2.7, 3.9, 1.4],\n",
       "       [5. , 3.6, 1.4, 0.2],\n",
       "       [6.4, 2.9, 4.3, 1.3],\n",
       "       [5.2, 3.5, 1.5, 0.2],\n",
       "       [5.8, 2.7, 3.9, 1.2],\n",
       "       [5.5, 4.2, 1.4, 0.2],\n",
       "       [7.6, 3. , 6.6, 2.1],\n",
       "       [6.3, 2.8, 5.1, 1.5],\n",
       "       [6.4, 3.1, 5.5, 1.8],\n",
       "       [6.3, 2.5, 4.9, 1.5],\n",
       "       [5.8, 2.7, 5.1, 1.9],\n",
       "       [5. , 3. , 1.6, 0.2],\n",
       "       [6.7, 3.1, 4.7, 1.5],\n",
       "       [6. , 2.7, 5.1, 1.6],\n",
       "       [5.1, 3.5, 1.4, 0.2],\n",
       "       [4.8, 3.1, 1.6, 0.2],\n",
       "       [5.7, 2.8, 4.5, 1.3],\n",
       "       [5.1, 3.8, 1.6, 0.2],\n",
       "       [6.6, 3. , 4.4, 1.4],\n",
       "       [6.4, 2.8, 5.6, 2.1],\n",
       "       [5.2, 4.1, 1.5, 0.1],\n",
       "       [6.4, 2.8, 5.6, 2.2],\n",
       "       [7.7, 2.8, 6.7, 2. ],\n",
       "       [5.8, 4. , 1.2, 0.2],\n",
       "       [4.9, 3.1, 1.5, 0.1],\n",
       "       [5.4, 3.7, 1.5, 0.2],\n",
       "       [5.1, 3.5, 1.4, 0.3],\n",
       "       [6. , 3.4, 4.5, 1.6],\n",
       "       [6.5, 3. , 5.5, 1.8],\n",
       "       [5.5, 2.4, 3.8, 1.1],\n",
       "       [7.2, 3.6, 6.1, 2.5],\n",
       "       [6.9, 3.1, 5.1, 2.3],\n",
       "       [6.2, 2.9, 4.3, 1.3],\n",
       "       [6.5, 2.8, 4.6, 1.5],\n",
       "       [6. , 3. , 4.8, 1.8],\n",
       "       [5.4, 3.4, 1.7, 0.2],\n",
       "       [5.5, 2.6, 4.4, 1.2],\n",
       "       [6.7, 3. , 5.2, 2.3],\n",
       "       [7.7, 3.8, 6.7, 2.2],\n",
       "       [5.1, 3.4, 1.5, 0.2]])"
      ]
     },
     "execution_count": 56,
     "metadata": {},
     "output_type": "execute_result"
    }
   ],
   "source": [
    "iris.iloc[:,0:4].values"
   ]
  },
  {
   "cell_type": "code",
   "execution_count": 52,
   "metadata": {},
   "outputs": [
    {
     "data": {
      "text/plain": [
       "numpy.ndarray"
      ]
     },
     "execution_count": 52,
     "metadata": {},
     "output_type": "execute_result"
    }
   ],
   "source": [
    "type(data)"
   ]
  },
  {
   "cell_type": "code",
   "execution_count": 57,
   "metadata": {},
   "outputs": [],
   "source": [
    "Error =[]\n",
    "for i in range(1, 11):\n",
    "    #kmeans = KMeans(n_clusters = i).fit(data)\n",
    "    kmeans = KMeans(n_clusters = i)\n",
    "    kmeans.fit(data)\n",
    "    Error.append(kmeans.inertia_)"
   ]
  },
  {
   "cell_type": "code",
   "execution_count": 58,
   "metadata": {},
   "outputs": [
    {
     "data": {
      "text/plain": [
       "Text(0, 0.5, 'Error')"
      ]
     },
     "execution_count": 58,
     "metadata": {},
     "output_type": "execute_result"
    },
    {
     "data": {
      "image/png": "[encoded data removed]",
      "text/plain": [
       "<Figure size 432x288 with 1 Axes>"
      ]
     },
     "metadata": {
      "needs_background": "light"
     },
     "output_type": "display_data"
    }
   ],
   "source": [
    "plt.plot(range(1, 11), Error)\n",
    "plt.title('Elbow method')\n",
    "plt.xlabel('No of clusters')\n",
    "plt.ylabel('Error')"
   ]
  },
  {
   "cell_type": "code",
   "execution_count": 42,
   "metadata": {},
   "outputs": [
    {
     "data": {
      "text/plain": [
       "array([0., 0., 0., 0., 0., 0., 0., 0., 0., 0.])"
      ]
     },
     "execution_count": 42,
     "metadata": {},
     "output_type": "execute_result"
    }
   ],
   "source": [
    "# gap statistic\n",
    "gaps = np.zeros((len(range(1,11)),))\n",
    "gaps"
   ]
  },
  {
   "cell_type": "code",
   "execution_count": 43,
   "metadata": {},
   "outputs": [
    {
     "data": {
      "text/plain": [
       "(150, 5)"
      ]
     },
     "execution_count": 43,
     "metadata": {},
     "output_type": "execute_result"
    }
   ],
   "source": [
    "iris.shape"
   ]
  },
  {
   "cell_type": "code",
   "execution_count": 44,
   "metadata": {},
   "outputs": [
    {
     "data": {
      "text/plain": [
       "150"
      ]
     },
     "execution_count": 44,
     "metadata": {},
     "output_type": "execute_result"
    }
   ],
   "source": [
    "len(np.random.random_sample(size=iris.shape))"
   ]
  },
  {
   "cell_type": "code",
   "execution_count": 45,
   "metadata": {},
   "outputs": [
    {
     "data": {
      "text/plain": [
       "150"
      ]
     },
     "execution_count": 45,
     "metadata": {},
     "output_type": "execute_result"
    }
   ],
   "source": [
    "len(np.random.uniform(0,1,iris.shape))"
   ]
  },
  {
   "cell_type": "code",
   "execution_count": 46,
   "metadata": {},
   "outputs": [],
   "source": [
    "results = pd.DataFrame({'cc':[], 'gap':[]})"
   ]
  },
  {
   "cell_type": "code",
   "execution_count": 47,
   "metadata": {},
   "outputs": [],
   "source": [
    "for g, k in enumerate(range(1,11)):\n",
    "    # reference\n",
    "    referenceDataPoints = np.zeros(5)\n",
    "    \n",
    "    # gneerate 5 random sample and perform kmenas on that sample\n",
    "    for r in range(5):\n",
    "        # get a uniform random sampling\n",
    "        randomRef = np.random.uniform(0,1,data.shape)\n",
    "        \n",
    "        # fit a model\n",
    "        rm = KMeans(k)\n",
    "        rm.fit(randomRef)\n",
    "    \n",
    "        # add sum of squares information to our reference df\n",
    "        refDP = rm.inertia_\n",
    "        referenceDataPoints[r] = refDP\n",
    "        \n",
    "    # fit cluster on original data set\n",
    "    om = KMeans(k)\n",
    "    om.fit(data)\n",
    "    \n",
    "    orgDP = om.inertia_\n",
    "    \n",
    "    gap = np.log(np.mean(referenceDataPoints)) - np.log(orgDP)\n",
    "    # calculate gap statistic and update our array\n",
    "    gaps[g] = gap\n",
    "    results = results.append({'cc':k, 'gap':gap}, ignore_index=True)\n",
    "    \n",
    "    "
   ]
  },
  {
   "cell_type": "code",
   "execution_count": 48,
   "metadata": {},
   "outputs": [
    {
     "data": {
      "text/plain": [
       "array([-2.59873105, -1.36599302, -0.90299203, -0.75976323, -0.67319337,\n",
       "       -0.62742348, -0.63176633, -0.54803801, -0.60665494, -0.59671223])"
      ]
     },
     "execution_count": 48,
     "metadata": {},
     "output_type": "execute_result"
    }
   ],
   "source": [
    "gaps"
   ]
  },
  {
   "cell_type": "code",
   "execution_count": 49,
   "metadata": {},
   "outputs": [
    {
     "data": {
      "text/html": [
       "<div>\n",
       "<style scoped>\n",
       "    .dataframe tbody tr th:only-of-type {\n",
       "        vertical-align: middle;\n",
       "    }\n",
       "\n",
       "    .dataframe tbody tr th {\n",
       "        vertical-align: top;\n",
       "    }\n",
       "\n",
       "    .dataframe thead th {\n",
       "        text-align: right;\n",
       "    }\n",
       "</style>\n",
       "<table border=\"1\" class=\"dataframe\">\n",
       "  <thead>\n",
       "    <tr style=\"text-align: right;\">\n",
       "      <th></th>\n",
       "      <th>cc</th>\n",
       "      <th>gap</th>\n",
       "    </tr>\n",
       "  </thead>\n",
       "  <tbody>\n",
       "    <tr>\n",
       "      <th>0</th>\n",
       "      <td>1.0</td>\n",
       "      <td>-2.598731</td>\n",
       "    </tr>\n",
       "    <tr>\n",
       "      <th>1</th>\n",
       "      <td>2.0</td>\n",
       "      <td>-1.365993</td>\n",
       "    </tr>\n",
       "    <tr>\n",
       "      <th>2</th>\n",
       "      <td>3.0</td>\n",
       "      <td>-0.902992</td>\n",
       "    </tr>\n",
       "    <tr>\n",
       "      <th>3</th>\n",
       "      <td>4.0</td>\n",
       "      <td>-0.759763</td>\n",
       "    </tr>\n",
       "    <tr>\n",
       "      <th>4</th>\n",
       "      <td>5.0</td>\n",
       "      <td>-0.673193</td>\n",
       "    </tr>\n",
       "    <tr>\n",
       "      <th>5</th>\n",
       "      <td>6.0</td>\n",
       "      <td>-0.627423</td>\n",
       "    </tr>\n",
       "    <tr>\n",
       "      <th>6</th>\n",
       "      <td>7.0</td>\n",
       "      <td>-0.631766</td>\n",
       "    </tr>\n",
       "    <tr>\n",
       "      <th>7</th>\n",
       "      <td>8.0</td>\n",
       "      <td>-0.548038</td>\n",
       "    </tr>\n",
       "    <tr>\n",
       "      <th>8</th>\n",
       "      <td>9.0</td>\n",
       "      <td>-0.606655</td>\n",
       "    </tr>\n",
       "    <tr>\n",
       "      <th>9</th>\n",
       "      <td>10.0</td>\n",
       "      <td>-0.596712</td>\n",
       "    </tr>\n",
       "  </tbody>\n",
       "</table>\n",
       "</div>"
      ],
      "text/plain": [
       "     cc       gap\n",
       "0   1.0 -2.598731\n",
       "1   2.0 -1.365993\n",
       "2   3.0 -0.902992\n",
       "3   4.0 -0.759763\n",
       "4   5.0 -0.673193\n",
       "5   6.0 -0.627423\n",
       "6   7.0 -0.631766\n",
       "7   8.0 -0.548038\n",
       "8   9.0 -0.606655\n",
       "9  10.0 -0.596712"
      ]
     },
     "execution_count": 49,
     "metadata": {},
     "output_type": "execute_result"
    }
   ],
   "source": [
    "results"
   ]
  },
  {
   "cell_type": "code",
   "execution_count": 50,
   "metadata": {},
   "outputs": [
    {
     "data": {
      "text/plain": [
       "8"
      ]
     },
     "execution_count": 50,
     "metadata": {},
     "output_type": "execute_result"
    }
   ],
   "source": [
    "gaps.argmax() + 1"
   ]
  },
  {
   "cell_type": "code",
   "execution_count": 35,
   "metadata": {},
   "outputs": [
    {
     "data": {
      "text/plain": [
       "Text(0, 0.5, 'Gap Value')"
      ]
     },
     "execution_count": 35,
     "metadata": {},
     "output_type": "execute_result"
    },
    {
     "data": {
      "image/png": "[encoded data removed]",
      "text/plain": [
       "<Figure size 432x288 with 1 Axes>"
      ]
     },
     "metadata": {
      "needs_background": "light"
     },
     "output_type": "display_data"
    }
   ],
   "source": [
    "plt.plot(range(1, 11), gaps)\n",
    "plt.title('Gap Statistic')\n",
    "plt.xlabel('Clusters')\n",
    "plt.ylabel('Gap Value')"
   ]
  },
  {
   "cell_type": "code",
   "execution_count": null,
   "metadata": {},
   "outputs": [],
   "source": []
  }
 ],
 "metadata": {
  "kernelspec": {
   "display_name": "Python 3",
   "language": "python",
   "name": "python3"
  },
  "language_info": {
   "codemirror_mode": {
    "name": "ipython",
    "version": 3
   },
   "file_extension": ".py",
   "mimetype": "text/x-python",
   "name": "python",
   "nbconvert_exporter": "python",
   "pygments_lexer": "ipython3",
   "version": "3.7.0"
  },
  "varInspector": {
   "cols": {
    "lenName": 16,
    "lenType": 16,
    "lenVar": 40
   },
   "kernels_config": {
    "python": {
     "delete_cmd_postfix": "",
     "delete_cmd_prefix": "del ",
     "library": "var_list.py",
     "varRefreshCmd": "print(var_dic_list())"
    },
    "r": {
     "delete_cmd_postfix": ") ",
     "delete_cmd_prefix": "rm(",
     "library": "var_list.r",
     "varRefreshCmd": "cat(var_dic_list()) "
    }
   },
   "types_to_exclude": [
    "module",
    "function",
    "builtin_function_or_method",
    "instance",
    "_Feature"
   ],
   "window_display": false
  }
 },
 "nbformat": 4,
 "nbformat_minor": 4
}
