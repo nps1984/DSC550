{
 "cells": [
  {
   "cell_type": "code",
   "execution_count": 144,
   "metadata": {},
   "outputs": [],
   "source": [
    "import numpy as np\n",
    "import pandas as pd\n",
    "import scipy.linalg as la"
   ]
  },
  {
   "cell_type": "markdown",
   "metadata": {},
   "source": [
    "## Exercise 1 Part A"
   ]
  },
  {
   "cell_type": "code",
   "execution_count": 29,
   "metadata": {},
   "outputs": [],
   "source": [
    "df = pd.DataFrame(np.array([[1,2,3,4,5],[2,3,2,5,3],[5,5,5,3,2]]), columns=['M','N','P','Q','R'])"
   ]
  },
  {
   "cell_type": "code",
   "execution_count": 30,
   "metadata": {},
   "outputs": [
    {
     "data": {
      "text/html": [
       "<div>\n",
       "<style scoped>\n",
       "    .dataframe tbody tr th:only-of-type {\n",
       "        vertical-align: middle;\n",
       "    }\n",
       "\n",
       "    .dataframe tbody tr th {\n",
       "        vertical-align: top;\n",
       "    }\n",
       "\n",
       "    .dataframe thead th {\n",
       "        text-align: right;\n",
       "    }\n",
       "</style>\n",
       "<table border=\"1\" class=\"dataframe\">\n",
       "  <thead>\n",
       "    <tr style=\"text-align: right;\">\n",
       "      <th></th>\n",
       "      <th>M</th>\n",
       "      <th>N</th>\n",
       "      <th>P</th>\n",
       "      <th>Q</th>\n",
       "      <th>R</th>\n",
       "    </tr>\n",
       "  </thead>\n",
       "  <tbody>\n",
       "    <tr>\n",
       "      <th>0</th>\n",
       "      <td>1</td>\n",
       "      <td>2</td>\n",
       "      <td>3</td>\n",
       "      <td>4</td>\n",
       "      <td>5</td>\n",
       "    </tr>\n",
       "    <tr>\n",
       "      <th>1</th>\n",
       "      <td>2</td>\n",
       "      <td>3</td>\n",
       "      <td>2</td>\n",
       "      <td>5</td>\n",
       "      <td>3</td>\n",
       "    </tr>\n",
       "    <tr>\n",
       "      <th>2</th>\n",
       "      <td>5</td>\n",
       "      <td>5</td>\n",
       "      <td>5</td>\n",
       "      <td>3</td>\n",
       "      <td>2</td>\n",
       "    </tr>\n",
       "  </tbody>\n",
       "</table>\n",
       "</div>"
      ],
      "text/plain": [
       "   M  N  P  Q  R\n",
       "0  1  2  3  4  5\n",
       "1  2  3  2  5  3\n",
       "2  5  5  5  3  2"
      ]
     },
     "execution_count": 30,
     "metadata": {},
     "output_type": "execute_result"
    }
   ],
   "source": [
    "# dataframe of values\n",
    "df"
   ]
  },
  {
   "cell_type": "code",
   "execution_count": 31,
   "metadata": {},
   "outputs": [
    {
     "data": {
      "text/plain": [
       "0    3.0\n",
       "1    3.0\n",
       "2    4.0\n",
       "dtype: float64"
      ]
     },
     "execution_count": 31,
     "metadata": {},
     "output_type": "execute_result"
    }
   ],
   "source": [
    "# print mean of each row\n",
    "df.mean(axis=1)"
   ]
  },
  {
   "cell_type": "code",
   "execution_count": 32,
   "metadata": {},
   "outputs": [],
   "source": [
    "# subtract average of each row from each value in that row\n",
    "df = df.sub(df.mean(axis=1),axis=0)"
   ]
  },
  {
   "cell_type": "code",
   "execution_count": 33,
   "metadata": {},
   "outputs": [
    {
     "data": {
      "text/html": [
       "<div>\n",
       "<style scoped>\n",
       "    .dataframe tbody tr th:only-of-type {\n",
       "        vertical-align: middle;\n",
       "    }\n",
       "\n",
       "    .dataframe tbody tr th {\n",
       "        vertical-align: top;\n",
       "    }\n",
       "\n",
       "    .dataframe thead th {\n",
       "        text-align: right;\n",
       "    }\n",
       "</style>\n",
       "<table border=\"1\" class=\"dataframe\">\n",
       "  <thead>\n",
       "    <tr style=\"text-align: right;\">\n",
       "      <th></th>\n",
       "      <th>M</th>\n",
       "      <th>N</th>\n",
       "      <th>P</th>\n",
       "      <th>Q</th>\n",
       "      <th>R</th>\n",
       "    </tr>\n",
       "  </thead>\n",
       "  <tbody>\n",
       "    <tr>\n",
       "      <th>0</th>\n",
       "      <td>-2.0</td>\n",
       "      <td>-1.0</td>\n",
       "      <td>0.0</td>\n",
       "      <td>1.0</td>\n",
       "      <td>2.0</td>\n",
       "    </tr>\n",
       "    <tr>\n",
       "      <th>1</th>\n",
       "      <td>-1.0</td>\n",
       "      <td>0.0</td>\n",
       "      <td>-1.0</td>\n",
       "      <td>2.0</td>\n",
       "      <td>0.0</td>\n",
       "    </tr>\n",
       "    <tr>\n",
       "      <th>2</th>\n",
       "      <td>1.0</td>\n",
       "      <td>1.0</td>\n",
       "      <td>1.0</td>\n",
       "      <td>-1.0</td>\n",
       "      <td>-2.0</td>\n",
       "    </tr>\n",
       "  </tbody>\n",
       "</table>\n",
       "</div>"
      ],
      "text/plain": [
       "     M    N    P    Q    R\n",
       "0 -2.0 -1.0  0.0  1.0  2.0\n",
       "1 -1.0  0.0 -1.0  2.0  0.0\n",
       "2  1.0  1.0  1.0 -1.0 -2.0"
      ]
     },
     "execution_count": 33,
     "metadata": {},
     "output_type": "execute_result"
    }
   ],
   "source": [
    "#print dataframe\n",
    "df"
   ]
  },
  {
   "cell_type": "code",
   "execution_count": 34,
   "metadata": {},
   "outputs": [
    {
     "data": {
      "text/plain": [
       "M   -0.666667\n",
       "N    0.000000\n",
       "P    0.000000\n",
       "Q    0.666667\n",
       "R    0.000000\n",
       "dtype: float64"
      ]
     },
     "execution_count": 34,
     "metadata": {},
     "output_type": "execute_result"
    }
   ],
   "source": [
    "# print mean of each columns\n",
    "df.mean()"
   ]
  },
  {
   "cell_type": "code",
   "execution_count": 35,
   "metadata": {},
   "outputs": [],
   "source": [
    "# subtract mean of each column from each value in that column\n",
    "df = df.sub(df.mean(axis=0),axis=1)"
   ]
  },
  {
   "cell_type": "code",
   "execution_count": 36,
   "metadata": {},
   "outputs": [
    {
     "data": {
      "text/html": [
       "<div>\n",
       "<style scoped>\n",
       "    .dataframe tbody tr th:only-of-type {\n",
       "        vertical-align: middle;\n",
       "    }\n",
       "\n",
       "    .dataframe tbody tr th {\n",
       "        vertical-align: top;\n",
       "    }\n",
       "\n",
       "    .dataframe thead th {\n",
       "        text-align: right;\n",
       "    }\n",
       "</style>\n",
       "<table border=\"1\" class=\"dataframe\">\n",
       "  <thead>\n",
       "    <tr style=\"text-align: right;\">\n",
       "      <th></th>\n",
       "      <th>M</th>\n",
       "      <th>N</th>\n",
       "      <th>P</th>\n",
       "      <th>Q</th>\n",
       "      <th>R</th>\n",
       "    </tr>\n",
       "  </thead>\n",
       "  <tbody>\n",
       "    <tr>\n",
       "      <th>0</th>\n",
       "      <td>-1.333333</td>\n",
       "      <td>-1.0</td>\n",
       "      <td>0.0</td>\n",
       "      <td>0.333333</td>\n",
       "      <td>2.0</td>\n",
       "    </tr>\n",
       "    <tr>\n",
       "      <th>1</th>\n",
       "      <td>-0.333333</td>\n",
       "      <td>0.0</td>\n",
       "      <td>-1.0</td>\n",
       "      <td>1.333333</td>\n",
       "      <td>0.0</td>\n",
       "    </tr>\n",
       "    <tr>\n",
       "      <th>2</th>\n",
       "      <td>1.666667</td>\n",
       "      <td>1.0</td>\n",
       "      <td>1.0</td>\n",
       "      <td>-1.666667</td>\n",
       "      <td>-2.0</td>\n",
       "    </tr>\n",
       "  </tbody>\n",
       "</table>\n",
       "</div>"
      ],
      "text/plain": [
       "          M    N    P         Q    R\n",
       "0 -1.333333 -1.0  0.0  0.333333  2.0\n",
       "1 -0.333333  0.0 -1.0  1.333333  0.0\n",
       "2  1.666667  1.0  1.0 -1.666667 -2.0"
      ]
     },
     "execution_count": 36,
     "metadata": {},
     "output_type": "execute_result"
    }
   ],
   "source": [
    "df"
   ]
  },
  {
   "cell_type": "markdown",
   "metadata": {},
   "source": [
    "## Exercise 1 Part B"
   ]
  },
  {
   "cell_type": "code",
   "execution_count": 109,
   "metadata": {},
   "outputs": [],
   "source": [
    "a = np.array([1,0,1,0,1,2])\n",
    "b = np.array([1,1,0,0,1,6])\n",
    "c = np.array([0,1,0,1,0,2])\n",
    "\n",
    "profile_lables = ['a','b','c']\n",
    "item_profiles = [a,b,c]"
   ]
  },
  {
   "cell_type": "code",
   "execution_count": 62,
   "metadata": {},
   "outputs": [],
   "source": [
    "def cosDist(v1,v2):\n",
    "    return np.dot(v1,v2) / (np.sqrt(np.sum(np.power(v1,2))) * np.sqrt(np.sum(np.power(v2,2))))"
   ]
  },
  {
   "cell_type": "code",
   "execution_count": 97,
   "metadata": {},
   "outputs": [],
   "source": [
    "def weightedCosine(v1,v2,attr_index,alpha):\n",
    "    \"\"\"\n",
    "    v1: first vector\n",
    "    v2: second vector\n",
    "    attr_index: atrribute index in vector to scale\n",
    "    alpha: weight to apply to target\n",
    "    \"\"\"\n",
    "    \n",
    "    a = np.copy(v1)\n",
    "    b = np.copy(v2)\n",
    "    \n",
    "    if len(v1) != len(v2):\n",
    "        print('Vector lengths do not match. Try again.')\n",
    "        return 0\n",
    "    \n",
    "    # apply weight to attribute\n",
    "    a[attr_index] = a[attr_index]*alpha\n",
    "    b[attr_index] = b[attr_index]*alpha\n",
    "    \n",
    "    # call cosDist w/ weighted vectors\n",
    "    return cosDist(a,b)   \n",
    "    "
   ]
  },
  {
   "cell_type": "code",
   "execution_count": 117,
   "metadata": {},
   "outputs": [
    {
     "name": "stdout",
     "output_type": "stream",
     "text": [
      "a --> b | 0  : 0.6667\n",
      "a --> b | 0.5: 0.7217\n",
      "a --> b | 1  : 0.8473\n",
      "a --> b | 2  : 0.9461\n",
      "a --> c | 0  : 0.0\n",
      "a --> c | 0.5: 0.2887\n",
      "a --> c | 1  : 0.6172\n",
      "a --> c | 2  : 0.8652\n",
      "b --> a | 0  : 0.6667\n",
      "b --> a | 0.5: 0.7217\n",
      "b --> a | 1  : 0.8473\n",
      "b --> a | 2  : 0.9461\n",
      "b --> c | 0  : 0.4082\n",
      "b --> c | 0.5: 0.6667\n",
      "b --> c | 1  : 0.8498\n",
      "b --> c | 2  : 0.9526\n",
      "c --> a | 0  : 0.0\n",
      "c --> a | 0.5: 0.2887\n",
      "c --> a | 1  : 0.6172\n",
      "c --> a | 2  : 0.8652\n",
      "c --> b | 0  : 0.4082\n",
      "c --> b | 0.5: 0.6667\n",
      "c --> b | 1  : 0.8498\n",
      "c --> b | 2  : 0.9526\n"
     ]
    }
   ],
   "source": [
    "# we are weighting the 6th column, sooo zero-based is index 5\n",
    "index = 5\n",
    "weights = [0,0.5,1,2]\n",
    "\n",
    "for i,(r,l) in enumerate(zip(item_profiles,profile_lables)):\n",
    "    for j in range(len(item_profiles)):\n",
    "        if i == j:\n",
    "            next\n",
    "        else:\n",
    "            for w in weights:\n",
    "                angle_cosine = weightedCosine(r,item_profiles[j], index, w)\n",
    "                \n",
    "                print(f'{profile_lables[i]} --> {profile_lables[j]} | {w:<3}: {round(angle_cosine,4)}')\n",
    "                \n",
    "                #print(f'Cosine of angle between vector {i} and {j} with weight {w}: {angle_cosine}')\n",
    "                "
   ]
  },
  {
   "cell_type": "markdown",
   "metadata": {},
   "source": [
    "## Exercise 1 Part C"
   ]
  },
  {
   "cell_type": "code",
   "execution_count": 193,
   "metadata": {},
   "outputs": [],
   "source": [
    "# init given array\n",
    "A = np.array([2/7, 3/7, 6/7])"
   ]
  },
  {
   "cell_type": "markdown",
   "metadata": {},
   "source": [
    "#### init given array\n",
    "A = np.array([2/7, 3/7, 6/7])\n",
    "\n",
    "#### B is our placeholder array\n",
    "B = np.array([x,y,x])\n",
    "\n",
    "#### To solve for be, take the dot product\n",
    "\n",
    "2/7x + 3/7y + 6/7z = 0\n",
    "\n",
    "#### Simplify by removing fractiosn to get\n",
    "2x + 3y + 6z = 0\n",
    "\n",
    "6z = 2x + 3y\n",
    "\n",
    "z = -1/3x - 2/3y\n",
    "\n",
    "B = np.array([x,y,(-1/3x - 2/3y)])\n",
    "\n",
    "#### Init x and y to find z\n",
    "x = 1\n",
    "\n",
    "y = 0\n",
    "\n",
    "z = -(1/3)(1) - (2/3)(0)\n",
    "\n",
    "z = -1/3\n",
    "\n",
    "#### Normalize the length of the vector\n",
    "1\\*\\*2 + 0\\*\\*2 + (-1/3)\\*\\*2 = np.sqrt(1+1/9)\n",
    "\n",
    "w = 1/np.sqrt(1+1/9)\n",
    "\n",
    "#### The orthnormal vector is then\n",
    "w*B \n",
    "\n",
    "\n"
   ]
  },
  {
   "cell_type": "code",
   "execution_count": 195,
   "metadata": {},
   "outputs": [],
   "source": [
    "# init given vector\n",
    "A = np.array([2/7, 3/7, 6/7])"
   ]
  },
  {
   "cell_type": "code",
   "execution_count": 196,
   "metadata": {},
   "outputs": [],
   "source": [
    "# use init values for B as described above and after solving for z\n",
    "B = np.array([1,0,-1/3])"
   ]
  },
  {
   "cell_type": "code",
   "execution_count": 197,
   "metadata": {},
   "outputs": [],
   "source": [
    "# init w based on calculations above\n",
    "w = 1/np.sqrt(1+1/9)"
   ]
  },
  {
   "cell_type": "code",
   "execution_count": 201,
   "metadata": {},
   "outputs": [],
   "source": [
    "# Calculate orthonormal basis vector\n",
    "C = np.multiply((w),B)"
   ]
  },
  {
   "cell_type": "code",
   "execution_count": 202,
   "metadata": {},
   "outputs": [
    {
     "data": {
      "text/plain": [
       "array([ 0.9486833 ,  0.        , -0.31622777])"
      ]
     },
     "execution_count": 202,
     "metadata": {},
     "output_type": "execute_result"
    }
   ],
   "source": [
    "C"
   ]
  },
  {
   "cell_type": "code",
   "execution_count": 208,
   "metadata": {},
   "outputs": [
    {
     "data": {
      "text/plain": [
       "1.0"
      ]
     },
     "execution_count": 208,
     "metadata": {},
     "output_type": "execute_result"
    }
   ],
   "source": [
    "# verify C is normalized (should equal 1)\n",
    "round(np.linalg.norm(C),3)"
   ]
  },
  {
   "cell_type": "code",
   "execution_count": 207,
   "metadata": {},
   "outputs": [
    {
     "data": {
      "text/plain": [
       "0.0"
      ]
     },
     "execution_count": 207,
     "metadata": {},
     "output_type": "execute_result"
    }
   ],
   "source": [
    "# verify A and C are orthogonal (shouuld equal 0)\n",
    "round(np.dot(A,C),3)"
   ]
  },
  {
   "cell_type": "markdown",
   "metadata": {},
   "source": [
    "## Exercise 1 Part D"
   ]
  },
  {
   "cell_type": "code",
   "execution_count": 162,
   "metadata": {},
   "outputs": [],
   "source": [
    "A = np.array([[1,1],[2,2],[3,4]])"
   ]
  },
  {
   "cell_type": "code",
   "execution_count": 164,
   "metadata": {},
   "outputs": [],
   "source": [
    "B = np.dot(A.transpose(),A)"
   ]
  },
  {
   "cell_type": "code",
   "execution_count": 165,
   "metadata": {},
   "outputs": [],
   "source": [
    "eigvals, eigvecs = la.eig(B)"
   ]
  },
  {
   "cell_type": "code",
   "execution_count": 166,
   "metadata": {},
   "outputs": [
    {
     "data": {
      "text/plain": [
       "array([[-0.77512996, -0.63180182],\n",
       "       [ 0.63180182, -0.77512996]])"
      ]
     },
     "execution_count": 166,
     "metadata": {},
     "output_type": "execute_result"
    }
   ],
   "source": [
    "eigvecs"
   ]
  },
  {
   "cell_type": "code",
   "execution_count": 167,
   "metadata": {},
   "outputs": [
    {
     "data": {
      "text/plain": [
       "array([ 0.14344504, 34.85655496])"
      ]
     },
     "execution_count": 167,
     "metadata": {},
     "output_type": "execute_result"
    }
   ],
   "source": [
    "eigvals.real"
   ]
  },
  {
   "cell_type": "markdown",
   "metadata": {},
   "source": [
    "Part D) Suppose we have three points in a two dimensional space: (1,1), (2,2), and (3,4). We want to perform PCA on these points, so we construct a 2-by-2 matrix whose eigenvectors are the directions that best represent these three points. Construct this matrix."
   ]
  },
  {
   "cell_type": "markdown",
   "metadata": {},
   "source": [
    "## Exercise 1 Part E"
   ]
  },
  {
   "cell_type": "code",
   "execution_count": 136,
   "metadata": {},
   "outputs": [
    {
     "data": {
      "text/plain": [
       "0"
      ]
     },
     "execution_count": 136,
     "metadata": {},
     "output_type": "execute_result"
    }
   ],
   "source": [
    "# dot product of 2 orthogonal vectors is 0 sooo... https://youtu.be/8t4qgEXKguw\n",
    "v1 = np.array([1,2,3])\n",
    "\n",
    "## if v2 = np.array([a,b,c]) we would have\n",
    "\n",
    "# v1 dot v2 =\n",
    "# (1,2,3) dot (1,1,c) =\n",
    "# 1 + 2 +3c = 0\n",
    "# 3 + 3c = 0\n",
    "# 3c = -3\n",
    "# c = -1\n",
    "\n",
    "v2 = np.array([1,1,-1])\n",
    "\n",
    "np.dot(v1,v2)"
   ]
  },
  {
   "cell_type": "markdown",
   "metadata": {},
   "source": [
    "## Exercise 1 Part F"
   ]
  },
  {
   "cell_type": "code",
   "execution_count": 134,
   "metadata": {},
   "outputs": [
    {
     "data": {
      "text/plain": [
       "array([[1. , 0. , 0. ],\n",
       "       [0. , 0.5, 0. ],\n",
       "       [0. , 0. , 0. ]])"
      ]
     },
     "execution_count": 134,
     "metadata": {},
     "output_type": "execute_result"
    }
   ],
   "source": [
    "M = pd.DataFrame(np.array([[1, 0, 0], [0, 2, 0], [0, 0, 0]]))\n",
    "np.linalg.pinv(M)\n"
   ]
  },
  {
   "cell_type": "markdown",
   "metadata": {},
   "source": [
    "## Exercise 2 -- 11.3.2"
   ]
  },
  {
   "cell_type": "markdown",
   "metadata": {},
   "source": [
    "Use the SVD from Fig. 11.7. Suppose Leslie assigns rating 3 to Alien and rating 4 to Titanic, giving us a representation of Leslie in  “movie space” of [0, 3, 0, 0, 4]. Find the representation of Leslie in concept space.  What does that representation predict about how well Leslie would like the other  movies appearing in our example data? \n"
   ]
  },
  {
   "cell_type": "code",
   "execution_count": 211,
   "metadata": {},
   "outputs": [
    {
     "data": {
      "text/plain": [
       "array([[1, 1, 1, 0, 0],\n",
       "       [3, 3, 3, 0, 0],\n",
       "       [4, 4, 4, 0, 0],\n",
       "       [5, 5, 5, 0, 0],\n",
       "       [0, 0, 0, 4, 4],\n",
       "       [0, 0, 0, 5, 5],\n",
       "       [0, 0, 0, 2, 2]])"
      ]
     },
     "execution_count": 211,
     "metadata": {},
     "output_type": "execute_result"
    }
   ],
   "source": [
    "M_prime_org = np.array([[1,1,1,0,0],[3,3,3,0,0],[4,4,4,0,0],[5,5,5,0,0],[0,0,0,4,4],[0,0,0,5,5],[0,0,0,2,2]])\n",
    "M_prime_org"
   ]
  },
  {
   "cell_type": "code",
   "execution_count": 225,
   "metadata": {},
   "outputs": [
    {
     "data": {
      "text/plain": [
       "array([[1, 1, 1, 0, 0],\n",
       "       [3, 3, 3, 0, 0],\n",
       "       [4, 4, 4, 0, 0],\n",
       "       [5, 5, 5, 0, 0],\n",
       "       [0, 0, 0, 4, 4],\n",
       "       [0, 0, 0, 5, 5],\n",
       "       [0, 0, 0, 2, 2],\n",
       "       [0, 3, 0, 0, 4]])"
      ]
     },
     "execution_count": 225,
     "metadata": {},
     "output_type": "execute_result"
    }
   ],
   "source": [
    "M_leslie = np.array([[1,1,1,0,0],[3,3,3,0,0],[4,4,4,0,0],\n",
    "                   [5,5,5,0,0],[0,0,0,4,4],[0,0,0,5,5],\n",
    "                   [0,0,0,2,2],[0,3,0,0,4]])\n",
    "M_leslie"
   ]
  },
  {
   "cell_type": "code",
   "execution_count": 226,
   "metadata": {},
   "outputs": [],
   "source": [
    "from scipy.linalg import svd"
   ]
  },
  {
   "cell_type": "code",
   "execution_count": 249,
   "metadata": {},
   "outputs": [],
   "source": [
    "L_U, L_s, L_VT = svd(M_leslie)\n",
    "Uo, so, VTo = svd(M_prime_org)"
   ]
  },
  {
   "cell_type": "code",
   "execution_count": 247,
   "metadata": {},
   "outputs": [],
   "source": [
    "leslie = np.array([0,3,0,0,4])"
   ]
  },
  {
   "cell_type": "code",
   "execution_count": 252,
   "metadata": {},
   "outputs": [
    {
     "data": {
      "text/plain": [
       "array([[-0.57735027, -0.57735027, -0.57735027, -0.        , -0.        ],\n",
       "       [-0.        , -0.        , -0.        , -0.70710678, -0.70710678],\n",
       "       [ 0.        ,  0.        ,  0.        , -0.70710678,  0.70710678],\n",
       "       [ 0.        , -0.70710678,  0.70710678,  0.        ,  0.        ],\n",
       "       [ 0.81649658, -0.40824829, -0.40824829,  0.        ,  0.        ]])"
      ]
     },
     "execution_count": 252,
     "metadata": {},
     "output_type": "execute_result"
    }
   ],
   "source": [
    "VTo"
   ]
  },
  {
   "cell_type": "code",
   "execution_count": 253,
   "metadata": {},
   "outputs": [],
   "source": [
    "U = np.array([[.14,0],\n",
    "             [.42,0],\n",
    "             [.56,0],\n",
    "             [.70,0],\n",
    "             [0,.60],\n",
    "             [0,.75],\n",
    "             [0,.30]\n",
    "             ])\n",
    "\n",
    "Sigma = np.array([[12.4,0],\n",
    "                 [0,9.5]\n",
    "                 ])\n",
    "\n",
    "V_trans = np.array([[.58,.58,.58,0,0],\n",
    "                    [0,0,0,.71,.71]\n",
    "                   ])"
   ]
  },
  {
   "cell_type": "code",
   "execution_count": 254,
   "metadata": {},
   "outputs": [
    {
     "data": {
      "text/plain": [
       "array([[0.58, 0.58, 0.58, 0.  , 0.  ],\n",
       "       [0.  , 0.  , 0.  , 0.71, 0.71]])"
      ]
     },
     "execution_count": 254,
     "metadata": {},
     "output_type": "execute_result"
    }
   ],
   "source": [
    "V_trans"
   ]
  },
  {
   "cell_type": "code",
   "execution_count": 258,
   "metadata": {},
   "outputs": [],
   "source": [
    "# to get leslie in concept space, we multiply leslie's ratings with de-transposed V_trans matrix (p.430)\n",
    "V = V_trans.transpose()"
   ]
  },
  {
   "cell_type": "code",
   "execution_count": 269,
   "metadata": {},
   "outputs": [
    {
     "data": {
      "text/plain": [
       "array([1.74, 2.84])"
      ]
     },
     "execution_count": 269,
     "metadata": {},
     "output_type": "execute_result"
    }
   ],
   "source": [
    "# calc dot product to get concept space\n",
    "CS = np.dot(leslie,V)\n",
    "CS"
   ]
  },
  {
   "cell_type": "code",
   "execution_count": 275,
   "metadata": {},
   "outputs": [
    {
     "data": {
      "text/plain": [
       "array([1.0092, 1.0092, 1.0092, 2.0164, 2.0164])"
      ]
     },
     "execution_count": 275,
     "metadata": {},
     "output_type": "execute_result"
    }
   ],
   "source": [
    "# determine how leslie might feel about the other moves\n",
    "np.dot(CS,V_trans)"
   ]
  },
  {
   "cell_type": "code",
   "execution_count": 276,
   "metadata": {},
   "outputs": [
    {
     "data": {
      "text/plain": [
       "array([0, 3, 0, 0, 4])"
      ]
     },
     "execution_count": 276,
     "metadata": {},
     "output_type": "execute_result"
    }
   ],
   "source": [
    "leslie"
   ]
  },
  {
   "cell_type": "markdown",
   "metadata": {},
   "source": [
    "## Results\n",
    "Shows that Leslie may like all of the movies, but will probably like the \"romance\" slightly more."
   ]
  },
  {
   "cell_type": "code",
   "execution_count": null,
   "metadata": {},
   "outputs": [],
   "source": []
  }
 ],
 "metadata": {
  "kernelspec": {
   "display_name": "Python 3",
   "language": "python",
   "name": "python3"
  },
  "language_info": {
   "codemirror_mode": {
    "name": "ipython",
    "version": 3
   },
   "file_extension": ".py",
   "mimetype": "text/x-python",
   "name": "python",
   "nbconvert_exporter": "python",
   "pygments_lexer": "ipython3",
   "version": "3.8.4rc1"
  },
  "varInspector": {
   "cols": {
    "lenName": 16,
    "lenType": 16,
    "lenVar": 40
   },
   "kernels_config": {
    "python": {
     "delete_cmd_postfix": "",
     "delete_cmd_prefix": "del ",
     "library": "var_list.py",
     "varRefreshCmd": "print(var_dic_list())"
    },
    "r": {
     "delete_cmd_postfix": ") ",
     "delete_cmd_prefix": "rm(",
     "library": "var_list.r",
     "varRefreshCmd": "cat(var_dic_list()) "
    }
   },
   "types_to_exclude": [
    "module",
    "function",
    "builtin_function_or_method",
    "instance",
    "_Feature"
   ],
   "window_display": false
  }
 },
 "nbformat": 4,
 "nbformat_minor": 4
}
