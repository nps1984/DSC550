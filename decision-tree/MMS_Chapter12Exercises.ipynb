{
 "cells": [
  {
   "cell_type": "code",
   "execution_count": 11,
   "metadata": {},
   "outputs": [],
   "source": [
    "import numpy as np\n",
    "import pandas as pd"
   ]
  },
  {
   "cell_type": "code",
   "execution_count": 12,
   "metadata": {},
   "outputs": [],
   "source": [
    "# create data set\n",
    "dataset = np.array([\n",
    "    [1,1,0,1,1,1],\n",
    "    [0,0,1,1,0,-1],\n",
    "    [0,1,1,0,0,1],\n",
    "    [1,0,0,1,0,-1],\n",
    "    [1,0,1,0,1,1],\n",
    "    [1,0,1,1,0,-1]\n",
    "])"
   ]
  },
  {
   "cell_type": "code",
   "execution_count": 13,
   "metadata": {},
   "outputs": [],
   "source": [
    "# the basic method, using threshold 0\n",
    "def basicZeroThresh(dataset,weights, rate=.5):\n",
    "    # assumes y is last column in row\n",
    "    for row in dataset:\n",
    "        data = row[:-1]\n",
    "        target = row[len(row) - 1]\n",
    "\n",
    "        a = np.dot(weights, data)\n",
    "\n",
    "        # if a is positive and y is negative or the other way\n",
    "        if np.sign(a) != np.sign(target) or np.sign(a) == 0:\n",
    "            weights = (weights + np.multiply(rate,np.multiply(data,target))).tolist()\n",
    "\n",
    "    return weights"
   ]
  },
  {
   "cell_type": "code",
   "execution_count": 14,
   "metadata": {},
   "outputs": [
    {
     "name": "stdout",
     "output_type": "stream",
     "text": [
      "iterations: 2\n",
      "[0.0, 1.0, 0.0, -0.5, 0.5]\n"
     ]
    }
   ],
   "source": [
    "weights = [0,0,0,0,0]\n",
    "prevWeights = []\n",
    "iters = 0\n",
    "\n",
    "while (prevWeights != weights) and iters < 15:\n",
    "    prevWeights = weights.copy()\n",
    "    weights = basicZeroThresh(dataset,weights)\n",
    "    iters += 1\n",
    "\n",
    "print(f'iterations: {iters}')\n",
    "print(weights)"
   ]
  },
  {
   "cell_type": "code",
   "execution_count": 15,
   "metadata": {},
   "outputs": [],
   "source": [
    "def winnow(dataset,weights,theta):\n",
    "    for row in dataset:\n",
    "        # trim off target \n",
    "        data = row[:-1]\n",
    "        \n",
    "        # put target in variable\n",
    "        target = row[len(row) - 1]\n",
    "        \n",
    "        # get dot product\n",
    "        a = np.dot(weights, data)\n",
    "        \n",
    "        # if all good, just pass\n",
    "        if (a > theta and np.sign(target) == 1) or (a < theta and np.sign(target) == -1):\n",
    "            pass\n",
    "        elif a <= theta and np.sign(target) == 1:\n",
    "            # adjust weights for features with a 1\n",
    "            for i,w in enumerate(weights):\n",
    "                if data[i] == 1:\n",
    "                    weights[i] = weights[i]*2\n",
    "        elif a >= theta and np.sign(target) == -1:\n",
    "            # adjust weights with feature of 1\n",
    "            for i,w in enumerate(weights):\n",
    "                if data[i] == 1:\n",
    "                    weights[i] = weights[i]/2\n",
    "            \n",
    "    return weights"
   ]
  },
  {
   "cell_type": "code",
   "execution_count": 16,
   "metadata": {},
   "outputs": [
    {
     "name": "stdout",
     "output_type": "stream",
     "text": [
      "iterations: 3\n",
      "[1.0, 8, 2.0, 0.5, 4]\n"
     ]
    }
   ],
   "source": [
    "weights = [1,1,1,1,1]\n",
    "prevWeights = []\n",
    "iters = 0\n",
    "\n",
    "while (prevWeights != weights) and iters < 15:\n",
    "    prevWeights = weights.copy()\n",
    "    weights = winnow(dataset,weights,5)\n",
    "    iters += 1\n",
    "\n",
    "print(f'iterations: {iters}')\n",
    "print(weights)"
   ]
  },
  {
   "cell_type": "code",
   "execution_count": 17,
   "metadata": {},
   "outputs": [],
   "source": [
    "def variableThreshWithBasic(dataset,weights,rate=0.5):\n",
    "    \n",
    "    # again assume last column is our target\n",
    "    for row in dataset:\n",
    "        # trim off target variable\n",
    "        data = row[:-1]\n",
    "        \n",
    "        # add threshold, initialized to -1\n",
    "        data = np.append(data, [-1])\n",
    "        \n",
    "        # from our row, grab the target, assumed to be last value in row\n",
    "        target = row[len(row) - 1]\n",
    "        \n",
    "        # calculate a\n",
    "        a = np.dot(weights, data)\n",
    "        \n",
    "        if np.sign(a) != np.sign(target) or np.sign(a) == 0:\n",
    "            weights = (weights + np.multiply(rate,np.multiply(data,target))).tolist()\n",
    "    \n",
    "    return weights"
   ]
  },
  {
   "cell_type": "code",
   "execution_count": 18,
   "metadata": {},
   "outputs": [
    {
     "name": "stdout",
     "output_type": "stream",
     "text": [
      "iterations: 3\n",
      "[0.5, 2.0, 0.5, 0.0, 1.5, 1.5]\n"
     ]
    }
   ],
   "source": [
    "# adjust weight vector\n",
    "weights = [1,1,1,1,1,1]\n",
    "prevWeights = []\n",
    "iters = 0\n",
    "\n",
    "while (prevWeights != weights) and iters < 15:\n",
    "    prevWeights = weights.copy()\n",
    "    weights = variableThreshWithBasic(dataset,weights)\n",
    "    iters += 1\n",
    "\n",
    "print(f'iterations: {iters}')\n",
    "print(weights)"
   ]
  },
  {
   "cell_type": "code",
   "execution_count": 19,
   "metadata": {},
   "outputs": [],
   "source": [
    "def variableThreshWithWinnow(dataset,weights):\n",
    "    #weights.append(theta)\n",
    "    \n",
    "    for row in dataset:\n",
    "        data = row[:-1]\n",
    "        data = np.append(data, [-1])\n",
    "        \n",
    "        target = row[len(row) - 1]\n",
    "        \n",
    "        a = np.dot(weights, data)\n",
    "        \n",
    "        if (a > 0 and np.sign(target) == 1) or (a <= 0 and np.sign(target) == -1):\n",
    "            pass\n",
    "        elif a <= 0 and np.sign(target) == 1:\n",
    "            for i,w in enumerate(weights):\n",
    "                if (i+1) == len(weights):\n",
    "                    weights[i] = weights[i]/2\n",
    "                else:\n",
    "                    if data[i] == 1:\n",
    "                        weights[i] = weights[i]*2\n",
    "        elif a > 0 and np.sign(target) == -1:\n",
    "            for i,w in enumerate(weights):\n",
    "                if (i+1) == len(weights):\n",
    "                    weights[i] = weights[i]*2\n",
    "                else:\n",
    "                    if data[i] == 1:\n",
    "                        weights[i] = weights[i]/2\n",
    "    \n",
    "    return weights"
   ]
  },
  {
   "cell_type": "code",
   "execution_count": 20,
   "metadata": {},
   "outputs": [
    {
     "name": "stdout",
     "output_type": "stream",
     "text": [
      "iterations: 2\n",
      "[0.5, 2, 1.0, 0.25, 1, 2.0]\n"
     ]
    }
   ],
   "source": [
    "# adjust weight vector\n",
    "weights = [1,1,1,1,1,1]\n",
    "prevWeights = []\n",
    "iters = 0\n",
    "\n",
    "while (prevWeights != weights) and iters < 15:\n",
    "    prevWeights = weights.copy()\n",
    "    weights = variableThreshWithWinnow(dataset,weights)\n",
    "    iters += 1\n",
    "\n",
    "print(f'iterations: {iters}')\n",
    "print(weights)"
   ]
  },
  {
   "cell_type": "markdown",
   "metadata": {},
   "source": [
    "# EXERCISE 12.2.1"
   ]
  },
  {
   "cell_type": "code",
   "execution_count": 21,
   "metadata": {},
   "outputs": [],
   "source": [
    "#### MODIFIED TRAINING SET\n",
    "dataset = np.array([\n",
    "    [1,1,0,1,1,1],\n",
    "    [0,0,1,1,1,-1], # example b includes 'nigeria'\n",
    "    [0,1,1,0,0,1],\n",
    "    [1,0,0,1,0,-1],\n",
    "    [1,0,1,0,1,1],\n",
    "    [1,0,1,1,0,-1]\n",
    "])"
   ]
  },
  {
   "cell_type": "markdown",
   "metadata": {},
   "source": [
    "## EXERCISE 12.2.1 (c: the basic method)"
   ]
  },
  {
   "cell_type": "code",
   "execution_count": 22,
   "metadata": {},
   "outputs": [
    {
     "name": "stdout",
     "output_type": "stream",
     "text": [
      "iterations: 3\n",
      "[0.5, 2.5, 0.5, -1.0, 1.0, 1.5]\n"
     ]
    }
   ],
   "source": [
    "# adjust weight vector\n",
    "weights = [1,1,1,1,1,1]\n",
    "prevWeights = []\n",
    "iters = 0\n",
    "\n",
    "while (prevWeights != weights) and iters < 15:\n",
    "    prevWeights = weights.copy()\n",
    "    weights = variableThreshWithBasic(dataset,weights)\n",
    "    iters += 1\n",
    "\n",
    "print(f'iterations: {iters}')\n",
    "print(weights)"
   ]
  },
  {
   "cell_type": "markdown",
   "metadata": {},
   "source": [
    "## EXERCISE 12.2.1 (d: the winnow method)"
   ]
  },
  {
   "cell_type": "code",
   "execution_count": 25,
   "metadata": {},
   "outputs": [
    {
     "name": "stdout",
     "output_type": "stream",
     "text": [
      "iterations: 108\n",
      "[33554432.0, 268435456, 1.4901161193847656e-08, 1.7105694144590052e-49, 134217728.0, 134217728.0]\n"
     ]
    }
   ],
   "source": [
    "# adjust weight vector\n",
    "weights = [1,1,1,1,1,1]\n",
    "prevWeights = []\n",
    "iters = 0\n",
    "\n",
    "while (prevWeights != weights) and iters < 150:\n",
    "    prevWeights = weights.copy()\n",
    "    weights = variableThreshWithWinnow(dataset,weights)\n",
    "    iters += 1\n",
    "\n",
    "print(f'iterations: {iters}')\n",
    "print(weights)"
   ]
  },
  {
   "cell_type": "markdown",
   "metadata": {},
   "source": [
    "# EXERCISE 12.3.2 (which vectors are support vectors)"
   ]
  },
  {
   "cell_type": "code",
   "execution_count": 26,
   "metadata": {},
   "outputs": [
    {
     "data": {
      "text/plain": [
       "array([[1., 2., 3.],\n",
       "       [3., 3., 2.],\n",
       "       [2., 4., 1.],\n",
       "       [3., 4., 5.],\n",
       "       [2., 7., 2.],\n",
       "       [5., 5., 5.]])"
      ]
     },
     "execution_count": 26,
     "metadata": {},
     "output_type": "execute_result"
    }
   ],
   "source": [
    "# import library\n",
    "from sklearn import svm\n",
    "\n",
    "# built sample data set\n",
    "X = [[3,4,5],[2,7,2],[5,5,5],[1,2,3],[3,3,2],[2,4,1]]\n",
    "y = [1,1,1,-1,-1,-1]\n",
    "\n",
    "# create model object\n",
    "clf = svm.SVC()\n",
    "\n",
    "# fit sample dataset \n",
    "clf.fit(X, y)\n",
    "\n",
    "# get support vectors\n",
    "clf.support_vectors_"
   ]
  },
  {
   "cell_type": "code",
   "execution_count": 27,
   "metadata": {},
   "outputs": [],
   "source": [
    "### Appears all 6 of our vectors are support vectors"
   ]
  },
  {
   "cell_type": "markdown",
   "metadata": {},
   "source": [
    "# EXERCISE 12.4.3: (a)"
   ]
  },
  {
   "cell_type": "code",
   "execution_count": 46,
   "metadata": {},
   "outputs": [
    {
     "name": "stdout",
     "output_type": "stream",
     "text": [
      "[6]\n"
     ]
    }
   ],
   "source": [
    "\n",
    "def find_nearest(data, targets, value):\n",
    "    array = np.asarray(data)\n",
    "    idx = (np.abs(array - value)).argmin()\n",
    "    return targets[idx]\n",
    "\n",
    "points = np.array([[1],[2],[4],[8],[16],[32]])\n",
    "targets = np.array([[1],[2],[3],[4],[5],[6]])\n",
    "\n",
    "value = 28\n",
    "\n",
    "print(find_nearest(points, targets, value))"
   ]
  },
  {
   "cell_type": "markdown",
   "metadata": {},
   "source": [
    "# EXERCISE Exercise 12.4.3: (b)"
   ]
  },
  {
   "cell_type": "code",
   "execution_count": 56,
   "metadata": {},
   "outputs": [
    {
     "data": {
      "text/plain": [
       "4.5"
      ]
     },
     "execution_count": 56,
     "metadata": {},
     "output_type": "execute_result"
    }
   ],
   "source": [
    "points = np.array([[1],[2],[4],[8],[16],[32]])\n",
    "targets = np.array([[1],[2],[3],[4],[5],[6]])\n",
    "\n",
    "closest_below = max(np.nonzero(points<=28)[0])\n",
    "closest_above = min(np.nonzero(points>=28)[0])\n",
    "\n",
    "(closest_above+closest_below)/2\n"
   ]
  },
  {
   "cell_type": "code",
   "execution_count": null,
   "metadata": {},
   "outputs": [],
   "source": []
  }
 ],
 "metadata": {
  "kernelspec": {
   "display_name": "Python 3",
   "language": "python",
   "name": "python3"
  },
  "language_info": {
   "codemirror_mode": {
    "name": "ipython",
    "version": 3
   },
   "file_extension": ".py",
   "mimetype": "text/x-python",
   "name": "python",
   "nbconvert_exporter": "python",
   "pygments_lexer": "ipython3",
   "version": "3.8.4rc1"
  },
  "varInspector": {
   "cols": {
    "lenName": 16,
    "lenType": 16,
    "lenVar": 40
   },
   "kernels_config": {
    "python": {
     "delete_cmd_postfix": "",
     "delete_cmd_prefix": "del ",
     "library": "var_list.py",
     "varRefreshCmd": "print(var_dic_list())"
    },
    "r": {
     "delete_cmd_postfix": ") ",
     "delete_cmd_prefix": "rm(",
     "library": "var_list.r",
     "varRefreshCmd": "cat(var_dic_list()) "
    }
   },
   "types_to_exclude": [
    "module",
    "function",
    "builtin_function_or_method",
    "instance",
    "_Feature"
   ],
   "window_display": false
  }
 },
 "nbformat": 4,
 "nbformat_minor": 4
}
