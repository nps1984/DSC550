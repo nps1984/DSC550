{
 "cells": [
  {
   "cell_type": "code",
   "execution_count": 2,
   "metadata": {},
   "outputs": [],
   "source": [
    "# import libraries\n",
    "from sklearn.model_selection import cross_val_score\n",
    "from sklearn.pipeline import make_pipeline\n",
    "from sklearn.preprocessing import StandardScaler\n",
    "from sklearn.svm import SVC\n",
    "from sklearn.pipeline import Pipeline\n",
    "from sklearn.model_selection import train_test_split, GridSearchCV\n",
    "from sklearn.metrics import make_scorer,f1_score\n",
    "import matplotlib.pyplot as plt\n",
    "import pandas as pd"
   ]
  },
  {
   "cell_type": "code",
   "execution_count": 3,
   "metadata": {},
   "outputs": [],
   "source": [
    "# Read file, giving names to columns\n",
    "df = pd.read_csv('C:\\cygwin64\\home\\salis\\data\\iris-slwc.txt', header=None, names=['l','w','c'])"
   ]
  },
  {
   "cell_type": "code",
   "execution_count": 4,
   "metadata": {},
   "outputs": [
    {
     "data": {
      "text/html": [
       "<div>\n",
       "<style scoped>\n",
       "    .dataframe tbody tr th:only-of-type {\n",
       "        vertical-align: middle;\n",
       "    }\n",
       "\n",
       "    .dataframe tbody tr th {\n",
       "        vertical-align: top;\n",
       "    }\n",
       "\n",
       "    .dataframe thead th {\n",
       "        text-align: right;\n",
       "    }\n",
       "</style>\n",
       "<table border=\"1\" class=\"dataframe\">\n",
       "  <thead>\n",
       "    <tr style=\"text-align: right;\">\n",
       "      <th></th>\n",
       "      <th>l</th>\n",
       "      <th>w</th>\n",
       "      <th>c</th>\n",
       "    </tr>\n",
       "  </thead>\n",
       "  <tbody>\n",
       "    <tr>\n",
       "      <th>0</th>\n",
       "      <td>5.9</td>\n",
       "      <td>3.0</td>\n",
       "      <td>1</td>\n",
       "    </tr>\n",
       "    <tr>\n",
       "      <th>1</th>\n",
       "      <td>6.9</td>\n",
       "      <td>3.1</td>\n",
       "      <td>1</td>\n",
       "    </tr>\n",
       "    <tr>\n",
       "      <th>2</th>\n",
       "      <td>6.6</td>\n",
       "      <td>2.9</td>\n",
       "      <td>1</td>\n",
       "    </tr>\n",
       "    <tr>\n",
       "      <th>3</th>\n",
       "      <td>4.6</td>\n",
       "      <td>3.2</td>\n",
       "      <td>-1</td>\n",
       "    </tr>\n",
       "    <tr>\n",
       "      <th>4</th>\n",
       "      <td>6.0</td>\n",
       "      <td>2.2</td>\n",
       "      <td>1</td>\n",
       "    </tr>\n",
       "  </tbody>\n",
       "</table>\n",
       "</div>"
      ],
      "text/plain": [
       "     l    w  c\n",
       "0  5.9  3.0  1\n",
       "1  6.9  3.1  1\n",
       "2  6.6  2.9  1\n",
       "3  4.6  3.2 -1\n",
       "4  6.0  2.2  1"
      ]
     },
     "execution_count": 4,
     "metadata": {},
     "output_type": "execute_result"
    }
   ],
   "source": [
    "# preview data\n",
    "df.head()"
   ]
  },
  {
   "cell_type": "code",
   "execution_count": 8,
   "metadata": {},
   "outputs": [],
   "source": [
    "#X = df.drop(df[:2], axis=1)\n",
    "X = df[df.columns[:-1]]\n",
    "#y = df[:2]\n",
    "y = df['c']"
   ]
  },
  {
   "cell_type": "code",
   "execution_count": 9,
   "metadata": {},
   "outputs": [
    {
     "data": {
      "text/html": [
       "<div>\n",
       "<style scoped>\n",
       "    .dataframe tbody tr th:only-of-type {\n",
       "        vertical-align: middle;\n",
       "    }\n",
       "\n",
       "    .dataframe tbody tr th {\n",
       "        vertical-align: top;\n",
       "    }\n",
       "\n",
       "    .dataframe thead th {\n",
       "        text-align: right;\n",
       "    }\n",
       "</style>\n",
       "<table border=\"1\" class=\"dataframe\">\n",
       "  <thead>\n",
       "    <tr style=\"text-align: right;\">\n",
       "      <th></th>\n",
       "      <th>l</th>\n",
       "      <th>w</th>\n",
       "    </tr>\n",
       "  </thead>\n",
       "  <tbody>\n",
       "    <tr>\n",
       "      <th>0</th>\n",
       "      <td>5.9</td>\n",
       "      <td>3.0</td>\n",
       "    </tr>\n",
       "    <tr>\n",
       "      <th>1</th>\n",
       "      <td>6.9</td>\n",
       "      <td>3.1</td>\n",
       "    </tr>\n",
       "    <tr>\n",
       "      <th>2</th>\n",
       "      <td>6.6</td>\n",
       "      <td>2.9</td>\n",
       "    </tr>\n",
       "    <tr>\n",
       "      <th>3</th>\n",
       "      <td>4.6</td>\n",
       "      <td>3.2</td>\n",
       "    </tr>\n",
       "    <tr>\n",
       "      <th>4</th>\n",
       "      <td>6.0</td>\n",
       "      <td>2.2</td>\n",
       "    </tr>\n",
       "    <tr>\n",
       "      <th>...</th>\n",
       "      <td>...</td>\n",
       "      <td>...</td>\n",
       "    </tr>\n",
       "    <tr>\n",
       "      <th>145</th>\n",
       "      <td>5.4</td>\n",
       "      <td>3.4</td>\n",
       "    </tr>\n",
       "    <tr>\n",
       "      <th>146</th>\n",
       "      <td>5.5</td>\n",
       "      <td>2.6</td>\n",
       "    </tr>\n",
       "    <tr>\n",
       "      <th>147</th>\n",
       "      <td>6.7</td>\n",
       "      <td>3.0</td>\n",
       "    </tr>\n",
       "    <tr>\n",
       "      <th>148</th>\n",
       "      <td>7.7</td>\n",
       "      <td>3.8</td>\n",
       "    </tr>\n",
       "    <tr>\n",
       "      <th>149</th>\n",
       "      <td>5.1</td>\n",
       "      <td>3.4</td>\n",
       "    </tr>\n",
       "  </tbody>\n",
       "</table>\n",
       "<p>150 rows × 2 columns</p>\n",
       "</div>"
      ],
      "text/plain": [
       "       l    w\n",
       "0    5.9  3.0\n",
       "1    6.9  3.1\n",
       "2    6.6  2.9\n",
       "3    4.6  3.2\n",
       "4    6.0  2.2\n",
       "..   ...  ...\n",
       "145  5.4  3.4\n",
       "146  5.5  2.6\n",
       "147  6.7  3.0\n",
       "148  7.7  3.8\n",
       "149  5.1  3.4\n",
       "\n",
       "[150 rows x 2 columns]"
      ]
     },
     "execution_count": 9,
     "metadata": {},
     "output_type": "execute_result"
    }
   ],
   "source": [
    "X"
   ]
  },
  {
   "cell_type": "code",
   "execution_count": 10,
   "metadata": {},
   "outputs": [
    {
     "data": {
      "text/plain": [
       "0      1\n",
       "1      1\n",
       "2      1\n",
       "3     -1\n",
       "4      1\n",
       "      ..\n",
       "145   -1\n",
       "146    1\n",
       "147    1\n",
       "148    1\n",
       "149   -1\n",
       "Name: c, Length: 150, dtype: int64"
      ]
     },
     "execution_count": 10,
     "metadata": {},
     "output_type": "execute_result"
    }
   ],
   "source": [
    "y"
   ]
  },
  {
   "cell_type": "code",
   "execution_count": null,
   "metadata": {},
   "outputs": [],
   "source": []
  },
  {
   "cell_type": "code",
   "execution_count": 17,
   "metadata": {},
   "outputs": [],
   "source": [
    "# split data into train/test\n",
    "seed = 123\n",
    "x_train, x_test, y_train, y_test = train_test_split(df[df.columns[:-1]],\n",
    "                                                    df['c'],\n",
    "                                                    train_size=0.75,\n",
    "                                                    random_state=seed,\n",
    "                                                    stratify=df['c'])"
   ]
  },
  {
   "cell_type": "code",
   "execution_count": 19,
   "metadata": {},
   "outputs": [
    {
     "data": {
      "text/html": [
       "<div>\n",
       "<style scoped>\n",
       "    .dataframe tbody tr th:only-of-type {\n",
       "        vertical-align: middle;\n",
       "    }\n",
       "\n",
       "    .dataframe tbody tr th {\n",
       "        vertical-align: top;\n",
       "    }\n",
       "\n",
       "    .dataframe thead th {\n",
       "        text-align: right;\n",
       "    }\n",
       "</style>\n",
       "<table border=\"1\" class=\"dataframe\">\n",
       "  <thead>\n",
       "    <tr style=\"text-align: right;\">\n",
       "      <th></th>\n",
       "      <th>l</th>\n",
       "      <th>w</th>\n",
       "    </tr>\n",
       "  </thead>\n",
       "  <tbody>\n",
       "    <tr>\n",
       "      <th>15</th>\n",
       "      <td>5.0</td>\n",
       "      <td>3.4</td>\n",
       "    </tr>\n",
       "    <tr>\n",
       "      <th>91</th>\n",
       "      <td>4.4</td>\n",
       "      <td>3.2</td>\n",
       "    </tr>\n",
       "    <tr>\n",
       "      <th>27</th>\n",
       "      <td>4.6</td>\n",
       "      <td>3.1</td>\n",
       "    </tr>\n",
       "    <tr>\n",
       "      <th>2</th>\n",
       "      <td>6.6</td>\n",
       "      <td>2.9</td>\n",
       "    </tr>\n",
       "    <tr>\n",
       "      <th>26</th>\n",
       "      <td>5.5</td>\n",
       "      <td>2.3</td>\n",
       "    </tr>\n",
       "  </tbody>\n",
       "</table>\n",
       "</div>"
      ],
      "text/plain": [
       "      l    w\n",
       "15  5.0  3.4\n",
       "91  4.4  3.2\n",
       "27  4.6  3.1\n",
       "2   6.6  2.9\n",
       "26  5.5  2.3"
      ]
     },
     "execution_count": 19,
     "metadata": {},
     "output_type": "execute_result"
    }
   ],
   "source": [
    "# preview train features\n",
    "x_train.head()"
   ]
  },
  {
   "cell_type": "code",
   "execution_count": 20,
   "metadata": {},
   "outputs": [
    {
     "data": {
      "text/plain": [
       "15   -1\n",
       "91   -1\n",
       "27   -1\n",
       "2     1\n",
       "26    1\n",
       "Name: c, dtype: int64"
      ]
     },
     "execution_count": 20,
     "metadata": {},
     "output_type": "execute_result"
    }
   ],
   "source": [
    "# preview train target\n",
    "y_train.head()"
   ]
  },
  {
   "cell_type": "code",
   "execution_count": 7,
   "metadata": {},
   "outputs": [],
   "source": [
    "# create a pipeline for svc model\n",
    "svcpipe = Pipeline([('ss', StandardScaler()),\n",
    "                        ('svc', SVC(class_weight='balanced',random_state=123))\n",
    "                       ])"
   ]
  },
  {
   "cell_type": "code",
   "execution_count": 11,
   "metadata": {},
   "outputs": [],
   "source": [
    "# create scorer\n",
    "f1s = make_scorer(f1_score, average='binary')"
   ]
  },
  {
   "cell_type": "code",
   "execution_count": 21,
   "metadata": {},
   "outputs": [],
   "source": [
    "# create parameter dict\n",
    "params = {'svc__kernel': ['linear','poly','rbf'],\n",
    "          'svc__C': [0.1,1,10,100],\n",
    "          'svc__tol': [.0001,.001,.01]}"
   ]
  },
  {
   "cell_type": "code",
   "execution_count": 22,
   "metadata": {},
   "outputs": [],
   "source": [
    "# create grid search\n",
    "grid = GridSearchCV(svcpipe,\n",
    "                       param_grid=params,\n",
    "                       scoring=f1s,\n",
    "                       n_jobs=-1,\n",
    "                       cv=5)"
   ]
  },
  {
   "cell_type": "code",
   "execution_count": 23,
   "metadata": {},
   "outputs": [
    {
     "data": {
      "text/plain": [
       "GridSearchCV(cv=5,\n",
       "             estimator=Pipeline(steps=[('ss', StandardScaler()),\n",
       "                                       ('svc', SVC())]),\n",
       "             n_jobs=-1,\n",
       "             param_grid={'svc__C': [0.1, 1, 10, 100],\n",
       "                         'svc__kernel': ['linear', 'poly', 'rbf'],\n",
       "                         'svc__tol': [0.0001, 0.001, 0.01]},\n",
       "             scoring=make_scorer(f1_score, average=binary))"
      ]
     },
     "execution_count": 23,
     "metadata": {},
     "output_type": "execute_result"
    }
   ],
   "source": [
    "# fit model, with various parameters using grid\n",
    "grid.fit(x_train, y_train)"
   ]
  },
  {
   "cell_type": "code",
   "execution_count": 24,
   "metadata": {},
   "outputs": [
    {
     "data": {
      "text/plain": [
       "{'mean_fit_time': array([0.00519295, 0.0064352 , 0.00999837, 0.00959921, 0.00623226,\n",
       "        0.00659528, 0.00601435, 0.0071938 , 0.00640254, 0.0085999 ,\n",
       "        0.00679898, 0.0063992 , 0.00582752, 0.0050252 , 0.00560145,\n",
       "        0.00640163, 0.00642939, 0.00623031, 0.00580001, 0.00660052,\n",
       "        0.00620103, 0.00619793, 0.00639892, 0.0057981 , 0.00480223,\n",
       "        0.00560288, 0.00600133, 0.00660114, 0.00640302, 0.00622773,\n",
       "        0.00620031, 0.00659847, 0.00739923, 0.00660081, 0.00659847,\n",
       "        0.00499773]),\n",
       " 'std_fit_time': array([0.00073824, 0.00082705, 0.00244744, 0.00079978, 0.00191717,\n",
       "        0.00048431, 0.00062292, 0.00117174, 0.00048907, 0.00338275,\n",
       "        0.00039935, 0.00048995, 0.00041902, 0.00109384, 0.00135509,\n",
       "        0.00048815, 0.00046959, 0.00038933, 0.00040019, 0.00048874,\n",
       "        0.00075126, 0.00116581, 0.00048959, 0.00075037, 0.0013263 ,\n",
       "        0.00079932, 0.00063241, 0.00048837, 0.00048946, 0.00074288,\n",
       "        0.00040139, 0.00049019, 0.00185565, 0.00080047, 0.00049115,\n",
       "        0.00089639]),\n",
       " 'mean_score_time': array([0.00399885, 0.00460205, 0.00500112, 0.00499692, 0.00316911,\n",
       "        0.00340028, 0.00378766, 0.00419989, 0.00379868, 0.00380001,\n",
       "        0.00360208, 0.00359907, 0.00316854, 0.00237198, 0.00340152,\n",
       "        0.00360098, 0.00377159, 0.00377064, 0.00380039, 0.00319896,\n",
       "        0.00319943, 0.00440073, 0.00359855, 0.0034287 , 0.00280027,\n",
       "        0.00339971, 0.00359993, 0.00419989, 0.00319977, 0.00397305,\n",
       "        0.00439978, 0.00362821, 0.00320048, 0.00359945, 0.00359931,\n",
       "        0.00219808]),\n",
       " 'std_score_time': array([3.39727652e-06, 8.85129745e-04, 6.32034215e-04, 1.90734863e-07,\n",
       "        9.23482996e-04, 1.02134833e-03, 4.09816963e-04, 7.46698422e-04,\n",
       "        3.99568097e-04, 4.03224018e-04, 4.91965109e-04, 1.02339866e-03,\n",
       "        4.21144063e-04, 5.17794381e-04, 4.91154819e-04, 4.90974486e-04,\n",
       "        7.41857228e-04, 3.86902197e-04, 4.00786780e-04, 7.48368152e-04,\n",
       "        7.48367256e-04, 2.41854931e-03, 4.90546643e-04, 5.27392352e-04,\n",
       "        7.47640710e-04, 7.99192002e-04, 4.89435155e-04, 1.46781099e-03,\n",
       "        3.99380466e-04, 5.46646334e-05, 1.35834450e-03, 4.58222358e-04,\n",
       "        4.00095542e-04, 4.90215209e-04, 4.89709361e-04, 7.47347436e-04]),\n",
       " 'param_svc__C': masked_array(data=[0.1, 0.1, 0.1, 0.1, 0.1, 0.1, 0.1, 0.1, 0.1, 1, 1, 1,\n",
       "                    1, 1, 1, 1, 1, 1, 10, 10, 10, 10, 10, 10, 10, 10, 10,\n",
       "                    100, 100, 100, 100, 100, 100, 100, 100, 100],\n",
       "              mask=[False, False, False, False, False, False, False, False,\n",
       "                    False, False, False, False, False, False, False, False,\n",
       "                    False, False, False, False, False, False, False, False,\n",
       "                    False, False, False, False, False, False, False, False,\n",
       "                    False, False, False, False],\n",
       "        fill_value='?',\n",
       "             dtype=object),\n",
       " 'param_svc__kernel': masked_array(data=['linear', 'linear', 'linear', 'poly', 'poly', 'poly',\n",
       "                    'rbf', 'rbf', 'rbf', 'linear', 'linear', 'linear',\n",
       "                    'poly', 'poly', 'poly', 'rbf', 'rbf', 'rbf', 'linear',\n",
       "                    'linear', 'linear', 'poly', 'poly', 'poly', 'rbf',\n",
       "                    'rbf', 'rbf', 'linear', 'linear', 'linear', 'poly',\n",
       "                    'poly', 'poly', 'rbf', 'rbf', 'rbf'],\n",
       "              mask=[False, False, False, False, False, False, False, False,\n",
       "                    False, False, False, False, False, False, False, False,\n",
       "                    False, False, False, False, False, False, False, False,\n",
       "                    False, False, False, False, False, False, False, False,\n",
       "                    False, False, False, False],\n",
       "        fill_value='?',\n",
       "             dtype=object),\n",
       " 'param_svc__tol': masked_array(data=[0.0001, 0.001, 0.01, 0.0001, 0.001, 0.01, 0.0001,\n",
       "                    0.001, 0.01, 0.0001, 0.001, 0.01, 0.0001, 0.001, 0.01,\n",
       "                    0.0001, 0.001, 0.01, 0.0001, 0.001, 0.01, 0.0001,\n",
       "                    0.001, 0.01, 0.0001, 0.001, 0.01, 0.0001, 0.001, 0.01,\n",
       "                    0.0001, 0.001, 0.01, 0.0001, 0.001, 0.01],\n",
       "              mask=[False, False, False, False, False, False, False, False,\n",
       "                    False, False, False, False, False, False, False, False,\n",
       "                    False, False, False, False, False, False, False, False,\n",
       "                    False, False, False, False, False, False, False, False,\n",
       "                    False, False, False, False],\n",
       "        fill_value='?',\n",
       "             dtype=object),\n",
       " 'params': [{'svc__C': 0.1, 'svc__kernel': 'linear', 'svc__tol': 0.0001},\n",
       "  {'svc__C': 0.1, 'svc__kernel': 'linear', 'svc__tol': 0.001},\n",
       "  {'svc__C': 0.1, 'svc__kernel': 'linear', 'svc__tol': 0.01},\n",
       "  {'svc__C': 0.1, 'svc__kernel': 'poly', 'svc__tol': 0.0001},\n",
       "  {'svc__C': 0.1, 'svc__kernel': 'poly', 'svc__tol': 0.001},\n",
       "  {'svc__C': 0.1, 'svc__kernel': 'poly', 'svc__tol': 0.01},\n",
       "  {'svc__C': 0.1, 'svc__kernel': 'rbf', 'svc__tol': 0.0001},\n",
       "  {'svc__C': 0.1, 'svc__kernel': 'rbf', 'svc__tol': 0.001},\n",
       "  {'svc__C': 0.1, 'svc__kernel': 'rbf', 'svc__tol': 0.01},\n",
       "  {'svc__C': 1, 'svc__kernel': 'linear', 'svc__tol': 0.0001},\n",
       "  {'svc__C': 1, 'svc__kernel': 'linear', 'svc__tol': 0.001},\n",
       "  {'svc__C': 1, 'svc__kernel': 'linear', 'svc__tol': 0.01},\n",
       "  {'svc__C': 1, 'svc__kernel': 'poly', 'svc__tol': 0.0001},\n",
       "  {'svc__C': 1, 'svc__kernel': 'poly', 'svc__tol': 0.001},\n",
       "  {'svc__C': 1, 'svc__kernel': 'poly', 'svc__tol': 0.01},\n",
       "  {'svc__C': 1, 'svc__kernel': 'rbf', 'svc__tol': 0.0001},\n",
       "  {'svc__C': 1, 'svc__kernel': 'rbf', 'svc__tol': 0.001},\n",
       "  {'svc__C': 1, 'svc__kernel': 'rbf', 'svc__tol': 0.01},\n",
       "  {'svc__C': 10, 'svc__kernel': 'linear', 'svc__tol': 0.0001},\n",
       "  {'svc__C': 10, 'svc__kernel': 'linear', 'svc__tol': 0.001},\n",
       "  {'svc__C': 10, 'svc__kernel': 'linear', 'svc__tol': 0.01},\n",
       "  {'svc__C': 10, 'svc__kernel': 'poly', 'svc__tol': 0.0001},\n",
       "  {'svc__C': 10, 'svc__kernel': 'poly', 'svc__tol': 0.001},\n",
       "  {'svc__C': 10, 'svc__kernel': 'poly', 'svc__tol': 0.01},\n",
       "  {'svc__C': 10, 'svc__kernel': 'rbf', 'svc__tol': 0.0001},\n",
       "  {'svc__C': 10, 'svc__kernel': 'rbf', 'svc__tol': 0.001},\n",
       "  {'svc__C': 10, 'svc__kernel': 'rbf', 'svc__tol': 0.01},\n",
       "  {'svc__C': 100, 'svc__kernel': 'linear', 'svc__tol': 0.0001},\n",
       "  {'svc__C': 100, 'svc__kernel': 'linear', 'svc__tol': 0.001},\n",
       "  {'svc__C': 100, 'svc__kernel': 'linear', 'svc__tol': 0.01},\n",
       "  {'svc__C': 100, 'svc__kernel': 'poly', 'svc__tol': 0.0001},\n",
       "  {'svc__C': 100, 'svc__kernel': 'poly', 'svc__tol': 0.001},\n",
       "  {'svc__C': 100, 'svc__kernel': 'poly', 'svc__tol': 0.01},\n",
       "  {'svc__C': 100, 'svc__kernel': 'rbf', 'svc__tol': 0.0001},\n",
       "  {'svc__C': 100, 'svc__kernel': 'rbf', 'svc__tol': 0.001},\n",
       "  {'svc__C': 100, 'svc__kernel': 'rbf', 'svc__tol': 0.01}],\n",
       " 'split0_test_score': array([1.        , 1.        , 1.        , 0.96774194, 0.96774194,\n",
       "        0.96774194, 1.        , 1.        , 1.        , 1.        ,\n",
       "        1.        , 1.        , 1.        , 1.        , 1.        ,\n",
       "        1.        , 1.        , 1.        , 1.        , 1.        ,\n",
       "        1.        , 1.        , 1.        , 1.        , 1.        ,\n",
       "        1.        , 1.        , 1.        , 1.        , 1.        ,\n",
       "        1.        , 1.        , 1.        , 1.        , 1.        ,\n",
       "        1.        ]),\n",
       " 'split1_test_score': array([1.    , 1.    , 1.    , 0.9375, 0.9375, 0.9375, 1.    , 1.    ,\n",
       "        1.    , 1.    , 1.    , 1.    , 1.    , 1.    , 1.    , 1.    ,\n",
       "        1.    , 1.    , 1.    , 1.    , 1.    , 1.    , 1.    , 1.    ,\n",
       "        1.    , 1.    , 1.    , 1.    , 1.    , 1.    , 1.    , 1.    ,\n",
       "        1.    , 1.    , 1.    , 1.    ]),\n",
       " 'split2_test_score': array([1.        , 1.        , 1.        , 0.90909091, 0.90909091,\n",
       "        0.90909091, 1.        , 1.        , 1.        , 1.        ,\n",
       "        1.        , 1.        , 0.96774194, 0.96774194, 0.96774194,\n",
       "        1.        , 1.        , 1.        , 1.        , 1.        ,\n",
       "        1.        , 1.        , 1.        , 1.        , 1.        ,\n",
       "        1.        , 1.        , 1.        , 1.        , 1.        ,\n",
       "        1.        , 1.        , 1.        , 1.        , 1.        ,\n",
       "        1.        ]),\n",
       " 'split3_test_score': array([1.        , 1.        , 1.        , 0.90909091, 0.90909091,\n",
       "        0.90909091, 1.        , 1.        , 1.        , 1.        ,\n",
       "        1.        , 1.        , 0.96774194, 0.96774194, 0.96774194,\n",
       "        1.        , 1.        , 1.        , 1.        , 1.        ,\n",
       "        1.        , 1.        , 1.        , 1.        , 1.        ,\n",
       "        1.        , 1.        , 1.        , 1.        , 1.        ,\n",
       "        1.        , 1.        , 1.        , 1.        , 1.        ,\n",
       "        1.        ]),\n",
       " 'split4_test_score': array([1.        , 1.        , 1.        , 0.90909091, 0.90909091,\n",
       "        0.90909091, 1.        , 1.        , 1.        , 1.        ,\n",
       "        1.        , 1.        , 1.        , 1.        , 1.        ,\n",
       "        1.        , 1.        , 1.        , 1.        , 1.        ,\n",
       "        1.        , 1.        , 1.        , 1.        , 1.        ,\n",
       "        1.        , 1.        , 1.        , 1.        , 1.        ,\n",
       "        1.        , 1.        , 1.        , 1.        , 1.        ,\n",
       "        1.        ]),\n",
       " 'mean_test_score': array([1.        , 1.        , 1.        , 0.92650293, 0.92650293,\n",
       "        0.92650293, 1.        , 1.        , 1.        , 1.        ,\n",
       "        1.        , 1.        , 0.98709677, 0.98709677, 0.98709677,\n",
       "        1.        , 1.        , 1.        , 1.        , 1.        ,\n",
       "        1.        , 1.        , 1.        , 1.        , 1.        ,\n",
       "        1.        , 1.        , 1.        , 1.        , 1.        ,\n",
       "        1.        , 1.        , 1.        , 1.        , 1.        ,\n",
       "        1.        ]),\n",
       " 'std_test_score': array([0.        , 0.        , 0.        , 0.02337146, 0.02337146,\n",
       "        0.02337146, 0.        , 0.        , 0.        , 0.        ,\n",
       "        0.        , 0.        , 0.01580316, 0.01580316, 0.01580316,\n",
       "        0.        , 0.        , 0.        , 0.        , 0.        ,\n",
       "        0.        , 0.        , 0.        , 0.        , 0.        ,\n",
       "        0.        , 0.        , 0.        , 0.        , 0.        ,\n",
       "        0.        , 0.        , 0.        , 0.        , 0.        ,\n",
       "        0.        ]),\n",
       " 'rank_test_score': array([ 1,  1,  1, 34, 34, 34,  1,  1,  1,  1,  1,  1, 31, 31, 31,  1,  1,\n",
       "         1,  1,  1,  1,  1,  1,  1,  1,  1,  1,  1,  1,  1,  1,  1,  1,  1,\n",
       "         1,  1])}"
      ]
     },
     "execution_count": 24,
     "metadata": {},
     "output_type": "execute_result"
    }
   ],
   "source": [
    "# check results\n",
    "grid.cv_results_"
   ]
  },
  {
   "cell_type": "code",
   "execution_count": 25,
   "metadata": {},
   "outputs": [
    {
     "data": {
      "text/plain": [
       "1.0"
      ]
     },
     "execution_count": 25,
     "metadata": {},
     "output_type": "execute_result"
    }
   ],
   "source": [
    "# get best score\n",
    "grid.best_score_"
   ]
  },
  {
   "cell_type": "code",
   "execution_count": 26,
   "metadata": {},
   "outputs": [
    {
     "data": {
      "text/plain": [
       "Pipeline(steps=[('ss', StandardScaler()),\n",
       "                ('svc', SVC(C=0.1, kernel='linear', tol=0.0001))])"
      ]
     },
     "execution_count": 26,
     "metadata": {},
     "output_type": "execute_result"
    }
   ],
   "source": [
    "# get best set of parameters\n",
    "grid.best_estimator_"
   ]
  },
  {
   "cell_type": "code",
   "execution_count": 27,
   "metadata": {},
   "outputs": [],
   "source": [
    "# create model w/ best set of parameters\n",
    "best_model = Pipeline(steps=[('ss', StandardScaler()),\n",
    "                ('svc', SVC(C=0.1, kernel='linear', tol=0.0001))])"
   ]
  },
  {
   "cell_type": "code",
   "execution_count": 28,
   "metadata": {},
   "outputs": [
    {
     "data": {
      "text/plain": [
       "Pipeline(steps=[('ss', StandardScaler()),\n",
       "                ('svc', SVC(C=0.1, kernel='linear', tol=0.0001))])"
      ]
     },
     "execution_count": 28,
     "metadata": {},
     "output_type": "execute_result"
    }
   ],
   "source": [
    "# fit model on train data\n",
    "best_model.fit(x_train, y_train)"
   ]
  },
  {
   "cell_type": "code",
   "execution_count": 34,
   "metadata": {},
   "outputs": [],
   "source": [
    "# use model to predict results w/ test set\n",
    "predicted = best_model.predict(x_test)"
   ]
  },
  {
   "cell_type": "code",
   "execution_count": 36,
   "metadata": {},
   "outputs": [
    {
     "data": {
      "text/plain": [
       "0.9803921568627451"
      ]
     },
     "execution_count": 36,
     "metadata": {},
     "output_type": "execute_result"
    }
   ],
   "source": [
    "# check actual test target against predicted values\n",
    "f1_score(y_test, predicted)"
   ]
  },
  {
   "cell_type": "code",
   "execution_count": 38,
   "metadata": {},
   "outputs": [],
   "source": [
    "# results are acceptable, create a productionized model\n",
    "final_model = Pipeline(steps=[('ss', StandardScaler()),('svc', SVC(C=0.1, kernel='linear', tol=0.0001))])"
   ]
  },
  {
   "cell_type": "code",
   "execution_count": 42,
   "metadata": {},
   "outputs": [
    {
     "data": {
      "text/plain": [
       "Pipeline(steps=[('ss', StandardScaler()),\n",
       "                ('svc', SVC(C=0.1, kernel='linear', tol=0.0001))])"
      ]
     },
     "execution_count": 42,
     "metadata": {},
     "output_type": "execute_result"
    }
   ],
   "source": [
    "# fit it against the entire data set\n",
    "final_model.fit(df.drop('c',axis=1), df['c'])"
   ]
  },
  {
   "cell_type": "code",
   "execution_count": 45,
   "metadata": {},
   "outputs": [
    {
     "data": {
      "text/plain": [
       "0.9933333333333333"
      ]
     },
     "execution_count": 45,
     "metadata": {},
     "output_type": "execute_result"
    }
   ],
   "source": [
    "final_model.score(df.drop('c',axis=1), df['c'])"
   ]
  },
  {
   "cell_type": "code",
   "execution_count": 66,
   "metadata": {},
   "outputs": [],
   "source": [
    "w = final_model['svc'].coef_[0]"
   ]
  },
  {
   "cell_type": "code",
   "execution_count": 99,
   "metadata": {},
   "outputs": [
    {
     "data": {
      "text/plain": [
       "Text(0.5, 1.0, 'SVC with linear kernel')"
      ]
     },
     "execution_count": 99,
     "metadata": {},
     "output_type": "execute_result"
    },
    {
     "data": {
      "image/png": "[encoded data removed]",
      "text/plain": [
       "<Figure size 432x288 with 1 Axes>"
      ]
     },
     "metadata": {
      "needs_background": "light"
     },
     "output_type": "display_data"
    }
   ],
   "source": [
    "# Adapted from sklearn documentation: https://scikit-learn.org/0.18/auto_examples/svm/plot_iris.html\n",
    "\n",
    "# step size in the mesh\n",
    "h = .02  \n",
    "\n",
    "# create a mesh to plot in\n",
    "x_min, x_max = min(df['l']) - 1, max(df['l']) + 1\n",
    "y_min, y_max = min(df['w']) - 1, max(df['w']) + 1\n",
    "\n",
    "xx, yy = np.meshgrid(np.arange(x_min, x_max, h),\n",
    "                     np.arange(y_min, y_max, h))\n",
    "\n",
    "### This Z object is the only thign I don't really understand???\n",
    "Z = final_model.predict(np.c_[xx.ravel(), yy.ravel()])\n",
    "\n",
    "# Put the result into a color plot\n",
    "Z = Z.reshape(xx.shape)\n",
    "plt.contourf(xx, yy, Z, cmap=plt.cm.coolwarm, alpha=0.8)\n",
    "\n",
    "# Plot also the training points\n",
    "plt.scatter(df['l'], df['w'], c=df['c'], cmap=plt.cm.coolwarm)\n",
    "plt.xlabel('Sepal length')\n",
    "plt.ylabel('Sepal width')\n",
    "plt.xlim(xx.min(), xx.max())\n",
    "plt.ylim(yy.min(), yy.max())\n",
    "plt.title('SVC with linear kernel')"
   ]
  },
  {
   "cell_type": "code",
   "execution_count": null,
   "metadata": {},
   "outputs": [],
   "source": []
  }
 ],
 "metadata": {
  "kernelspec": {
   "display_name": "Python 3",
   "language": "python",
   "name": "python3"
  },
  "language_info": {
   "codemirror_mode": {
    "name": "ipython",
    "version": 3
   },
   "file_extension": ".py",
   "mimetype": "text/x-python",
   "name": "python",
   "nbconvert_exporter": "python",
   "pygments_lexer": "ipython3",
   "version": "3.8.4rc1"
  },
  "varInspector": {
   "cols": {
    "lenName": 16,
    "lenType": 16,
    "lenVar": 40
   },
   "kernels_config": {
    "python": {
     "delete_cmd_postfix": "",
     "delete_cmd_prefix": "del ",
     "library": "var_list.py",
     "varRefreshCmd": "print(var_dic_list())"
    },
    "r": {
     "delete_cmd_postfix": ") ",
     "delete_cmd_prefix": "rm(",
     "library": "var_list.r",
     "varRefreshCmd": "cat(var_dic_list()) "
    }
   },
   "types_to_exclude": [
    "module",
    "function",
    "builtin_function_or_method",
    "instance",
    "_Feature"
   ],
   "window_display": false
  }
 },
 "nbformat": 4,
 "nbformat_minor": 4
}
