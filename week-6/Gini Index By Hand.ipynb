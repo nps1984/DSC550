{
 "cells": [
  {
   "cell_type": "code",
   "execution_count": 1,
   "metadata": {},
   "outputs": [],
   "source": [
    "import pandas as pd"
   ]
  },
  {
   "cell_type": "code",
   "execution_count": 2,
   "metadata": {},
   "outputs": [],
   "source": [
    "df = pd.read_csv('C:\\cygwin64\\home\\salis\\data\\caesarian.csv')"
   ]
  },
  {
   "cell_type": "code",
   "execution_count": 3,
   "metadata": {},
   "outputs": [],
   "source": [
    "df.rename(columns={\" caesarian\": \"caesarian\", \" delivery number\": \"delivery_number\",\n",
    "                  \" delivery time\":\"delivery_time\", \" blood pressure\":\"blood_pressure\",\n",
    "                  \" heart problem\":\"heart_problem\"}, inplace=True)"
   ]
  },
  {
   "cell_type": "code",
   "execution_count": 4,
   "metadata": {},
   "outputs": [
    {
     "data": {
      "text/plain": [
       "Index(['age', 'delivery_number', 'delivery_time', 'blood_pressure',\n",
       "       'heart_problem', 'caesarian'],\n",
       "      dtype='object')"
      ]
     },
     "execution_count": 4,
     "metadata": {},
     "output_type": "execute_result"
    }
   ],
   "source": [
    "df.columns"
   ]
  },
  {
   "cell_type": "code",
   "execution_count": 6,
   "metadata": {},
   "outputs": [
    {
     "data": {
      "text/html": [
       "<div>\n",
       "<style scoped>\n",
       "    .dataframe tbody tr th:only-of-type {\n",
       "        vertical-align: middle;\n",
       "    }\n",
       "\n",
       "    .dataframe tbody tr th {\n",
       "        vertical-align: top;\n",
       "    }\n",
       "\n",
       "    .dataframe thead th {\n",
       "        text-align: right;\n",
       "    }\n",
       "</style>\n",
       "<table border=\"1\" class=\"dataframe\">\n",
       "  <thead>\n",
       "    <tr style=\"text-align: right;\">\n",
       "      <th></th>\n",
       "      <th>age</th>\n",
       "      <th>delivery_number</th>\n",
       "      <th>delivery_time</th>\n",
       "      <th>blood_pressure</th>\n",
       "      <th>heart_problem</th>\n",
       "      <th>caesarian</th>\n",
       "    </tr>\n",
       "  </thead>\n",
       "  <tbody>\n",
       "    <tr>\n",
       "      <th>0</th>\n",
       "      <td>22</td>\n",
       "      <td>1</td>\n",
       "      <td>0</td>\n",
       "      <td>2</td>\n",
       "      <td>0</td>\n",
       "      <td>0</td>\n",
       "    </tr>\n",
       "    <tr>\n",
       "      <th>1</th>\n",
       "      <td>26</td>\n",
       "      <td>2</td>\n",
       "      <td>0</td>\n",
       "      <td>1</td>\n",
       "      <td>0</td>\n",
       "      <td>1</td>\n",
       "    </tr>\n",
       "    <tr>\n",
       "      <th>2</th>\n",
       "      <td>26</td>\n",
       "      <td>2</td>\n",
       "      <td>1</td>\n",
       "      <td>1</td>\n",
       "      <td>0</td>\n",
       "      <td>0</td>\n",
       "    </tr>\n",
       "    <tr>\n",
       "      <th>3</th>\n",
       "      <td>28</td>\n",
       "      <td>1</td>\n",
       "      <td>0</td>\n",
       "      <td>2</td>\n",
       "      <td>0</td>\n",
       "      <td>0</td>\n",
       "    </tr>\n",
       "    <tr>\n",
       "      <th>4</th>\n",
       "      <td>22</td>\n",
       "      <td>2</td>\n",
       "      <td>0</td>\n",
       "      <td>1</td>\n",
       "      <td>0</td>\n",
       "      <td>1</td>\n",
       "    </tr>\n",
       "  </tbody>\n",
       "</table>\n",
       "</div>"
      ],
      "text/plain": [
       "   age  delivery_number  delivery_time  blood_pressure  heart_problem  \\\n",
       "0   22                1              0               2              0   \n",
       "1   26                2              0               1              0   \n",
       "2   26                2              1               1              0   \n",
       "3   28                1              0               2              0   \n",
       "4   22                2              0               1              0   \n",
       "\n",
       "   caesarian  \n",
       "0          0  \n",
       "1          1  \n",
       "2          0  \n",
       "3          0  \n",
       "4          1  "
      ]
     },
     "execution_count": 6,
     "metadata": {},
     "output_type": "execute_result"
    }
   ],
   "source": [
    "df.head()"
   ]
  },
  {
   "cell_type": "code",
   "execution_count": 7,
   "metadata": {},
   "outputs": [],
   "source": [
    "C = len(df['caesarian'].unique())"
   ]
  },
  {
   "cell_type": "code",
   "execution_count": 8,
   "metadata": {},
   "outputs": [
    {
     "data": {
      "text/html": [
       "<div>\n",
       "<style scoped>\n",
       "    .dataframe tbody tr th:only-of-type {\n",
       "        vertical-align: middle;\n",
       "    }\n",
       "\n",
       "    .dataframe tbody tr th {\n",
       "        vertical-align: top;\n",
       "    }\n",
       "\n",
       "    .dataframe thead th {\n",
       "        text-align: right;\n",
       "    }\n",
       "</style>\n",
       "<table border=\"1\" class=\"dataframe\">\n",
       "  <thead>\n",
       "    <tr style=\"text-align: right;\">\n",
       "      <th></th>\n",
       "      <th>caesarian</th>\n",
       "      <th>heart_problem</th>\n",
       "      <th>counts</th>\n",
       "    </tr>\n",
       "  </thead>\n",
       "  <tbody>\n",
       "    <tr>\n",
       "      <th>0</th>\n",
       "      <td>0</td>\n",
       "      <td>0</td>\n",
       "      <td>28</td>\n",
       "    </tr>\n",
       "    <tr>\n",
       "      <th>1</th>\n",
       "      <td>0</td>\n",
       "      <td>1</td>\n",
       "      <td>6</td>\n",
       "    </tr>\n",
       "    <tr>\n",
       "      <th>2</th>\n",
       "      <td>1</td>\n",
       "      <td>0</td>\n",
       "      <td>22</td>\n",
       "    </tr>\n",
       "    <tr>\n",
       "      <th>3</th>\n",
       "      <td>1</td>\n",
       "      <td>1</td>\n",
       "      <td>24</td>\n",
       "    </tr>\n",
       "  </tbody>\n",
       "</table>\n",
       "</div>"
      ],
      "text/plain": [
       "   caesarian  heart_problem  counts\n",
       "0          0              0      28\n",
       "1          0              1       6\n",
       "2          1              0      22\n",
       "3          1              1      24"
      ]
     },
     "execution_count": 8,
     "metadata": {},
     "output_type": "execute_result"
    }
   ],
   "source": [
    "df.groupby(['caesarian','heart_problem']).size().reset_index(name='counts')"
   ]
  },
  {
   "cell_type": "code",
   "execution_count": 9,
   "metadata": {},
   "outputs": [
    {
     "data": {
      "text/html": [
       "<div>\n",
       "<style scoped>\n",
       "    .dataframe tbody tr th:only-of-type {\n",
       "        vertical-align: middle;\n",
       "    }\n",
       "\n",
       "    .dataframe tbody tr th {\n",
       "        vertical-align: top;\n",
       "    }\n",
       "\n",
       "    .dataframe thead th {\n",
       "        text-align: right;\n",
       "    }\n",
       "</style>\n",
       "<table border=\"1\" class=\"dataframe\">\n",
       "  <thead>\n",
       "    <tr style=\"text-align: right;\">\n",
       "      <th></th>\n",
       "      <th>caesarian</th>\n",
       "      <th>delivery_time</th>\n",
       "      <th>counts</th>\n",
       "    </tr>\n",
       "  </thead>\n",
       "  <tbody>\n",
       "    <tr>\n",
       "      <th>0</th>\n",
       "      <td>0</td>\n",
       "      <td>0</td>\n",
       "      <td>16</td>\n",
       "    </tr>\n",
       "    <tr>\n",
       "      <th>1</th>\n",
       "      <td>0</td>\n",
       "      <td>1</td>\n",
       "      <td>9</td>\n",
       "    </tr>\n",
       "    <tr>\n",
       "      <th>2</th>\n",
       "      <td>0</td>\n",
       "      <td>2</td>\n",
       "      <td>9</td>\n",
       "    </tr>\n",
       "    <tr>\n",
       "      <th>3</th>\n",
       "      <td>1</td>\n",
       "      <td>0</td>\n",
       "      <td>30</td>\n",
       "    </tr>\n",
       "    <tr>\n",
       "      <th>4</th>\n",
       "      <td>1</td>\n",
       "      <td>1</td>\n",
       "      <td>8</td>\n",
       "    </tr>\n",
       "    <tr>\n",
       "      <th>5</th>\n",
       "      <td>1</td>\n",
       "      <td>2</td>\n",
       "      <td>8</td>\n",
       "    </tr>\n",
       "  </tbody>\n",
       "</table>\n",
       "</div>"
      ],
      "text/plain": [
       "   caesarian  delivery_time  counts\n",
       "0          0              0      16\n",
       "1          0              1       9\n",
       "2          0              2       9\n",
       "3          1              0      30\n",
       "4          1              1       8\n",
       "5          1              2       8"
      ]
     },
     "execution_count": 9,
     "metadata": {},
     "output_type": "execute_result"
    }
   ],
   "source": [
    "df.groupby(['caesarian','delivery_time']).size().reset_index(name='counts')"
   ]
  },
  {
   "cell_type": "code",
   "execution_count": 13,
   "metadata": {},
   "outputs": [],
   "source": [
    "def evalNumerAttrib(feat):\n",
    "    # hold my split info\n",
    "    splits = []\n",
    "    \n",
    "    # sort on current column\n",
    "    C = np.sort(feat.unique())\n",
    "    \n",
    "    # sort attribute\n",
    "    X = np.sort(feat)    \n",
    "    \n",
    "    # create set to hold midpoints\n",
    "    midpoints = set()\n",
    "    \n",
    "    # loop through classes\n",
    "    for i,val in enumerate(C):\n",
    "        if i+1 == len(C):\n",
    "            continue\n",
    "        else:\n",
    "            # add midpoint to set\n",
    "            midpoints.add((val + C[i+1])/2)\n",
    "        \n",
    "    for mp in midpoints:\n",
    "        # get probability for current midpoint\n",
    "        yes_prob = feat.where(feat < mp).count() / feat.count()\n",
    "        no_prob = feat.where(feat > mp).count() / feat.count()\n",
    "        gi = (yes_prob * (1 - yes_prob)) + (no_prob * (1 - no_prob))\n",
    "        \n",
    "        splits.append({'mp':mp, 'gi':gi, 'samples': feat.count(),\n",
    "            'values':[feat.where(feat < mp).count(),feat.where(feat > mp).count()]})\n",
    "        \n",
    "    return splits\n",
    "    "
   ]
  },
  {
   "cell_type": "code",
   "execution_count": 19,
   "metadata": {},
   "outputs": [
    {
     "name": "stdout",
     "output_type": "stream",
     "text": [
      "delivery_number {'mp': 1.5, 'gi': 0.49968749999999995, 'samples': 80, 'values': [41, 39]}\n",
      "delivery_time {'mp': 0.5, 'gi': 0.48875, 'samples': 80, 'values': [46, 34]}\n",
      "blood_pressure {'mp': 0.5, 'gi': 0.375, 'samples': 80, 'values': [20, 60]}\n",
      "heart_problem {'mp': 0.5, 'gi': 0.46875, 'samples': 80, 'values': [50, 30]}\n"
     ]
    }
   ],
   "source": [
    "for column in df.drop(['caesarian','age'], axis=1):\n",
    "    # for the first level, check each column\n",
    "    maxGI = max(evalNumerAttrib(df[column]), key=lambda x:x['gi'])\n",
    "    print(column, maxGI)\n",
    "    \n",
    "    "
   ]
  },
  {
   "cell_type": "code",
   "execution_count": 18,
   "metadata": {},
   "outputs": [
    {
     "name": "stdout",
     "output_type": "stream",
     "text": [
      "delivery_time {'mp': 0.5, 'gi': 0.49732302201070794, 'samples': 41, 'values': [22, 19]}\n",
      "----\n",
      "delivery_time {'mp': 0.5, 'gi': 0.47337278106508873, 'samples': 39, 'values': [24, 15]}\n",
      "\n",
      "\n",
      "blood_pressure {'mp': 0.5, 'gi': 0.44973230220107074, 'samples': 41, 'values': [14, 27]}\n",
      "----\n",
      "blood_pressure {'mp': 1.5, 'gi': 0.3261012491781723, 'samples': 39, 'values': [31, 8]}\n",
      "\n",
      "\n",
      "heart_problem {'mp': 0.5, 'gi': 0.4140392623438429, 'samples': 41, 'values': [29, 12]}\n",
      "----\n",
      "heart_problem {'mp': 0.5, 'gi': 0.4970414201183432, 'samples': 39, 'values': [21, 18]}\n",
      "\n",
      "\n"
     ]
    }
   ],
   "source": [
    "for column in df.drop(['caesarian','age','delivery_number'], axis=1):\n",
    "    # for the first level, check each column\n",
    "    maxGI = max(evalNumerAttrib(df[df['delivery_number']<=1.5][column]), key=lambda x:x['gi'])\n",
    "    print(column, maxGI)\n",
    "    print('----')\n",
    "    maxGI = max(evalNumerAttrib(df[df['delivery_number']>=1.5][column]), key=lambda x:x['gi'])\n",
    "    print(column, maxGI)\n",
    "    print(\"\\n\")\n"
   ]
  },
  {
   "cell_type": "code",
   "execution_count": null,
   "metadata": {},
   "outputs": [],
   "source": []
  }
 ],
 "metadata": {
  "kernelspec": {
   "display_name": "Python 3",
   "language": "python",
   "name": "python3"
  },
  "language_info": {
   "codemirror_mode": {
    "name": "ipython",
    "version": 3
   },
   "file_extension": ".py",
   "mimetype": "text/x-python",
   "name": "python",
   "nbconvert_exporter": "python",
   "pygments_lexer": "ipython3",
   "version": "3.8.4rc1"
  },
  "varInspector": {
   "cols": {
    "lenName": 16,
    "lenType": 16,
    "lenVar": 40
   },
   "kernels_config": {
    "python": {
     "delete_cmd_postfix": "",
     "delete_cmd_prefix": "del ",
     "library": "var_list.py",
     "varRefreshCmd": "print(var_dic_list())"
    },
    "r": {
     "delete_cmd_postfix": ") ",
     "delete_cmd_prefix": "rm(",
     "library": "var_list.r",
     "varRefreshCmd": "cat(var_dic_list()) "
    }
   },
   "types_to_exclude": [
    "module",
    "function",
    "builtin_function_or_method",
    "instance",
    "_Feature"
   ],
   "window_display": false
  }
 },
 "nbformat": 4,
 "nbformat_minor": 4
}
